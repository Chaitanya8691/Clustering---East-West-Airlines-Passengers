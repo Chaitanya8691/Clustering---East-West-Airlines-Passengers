{
 "cells": [
  {
   "cell_type": "markdown",
   "id": "0071a03d",
   "metadata": {},
   "source": [
    "# Clustering - East West Airlines Passengers"
   ]
  },
  {
   "cell_type": "markdown",
   "id": "da2f7ff9",
   "metadata": {},
   "source": [
    "### Perform clustering (hierarchical,K means clustering and DBSCAN) for the airlines data to obtain optimum number of clusters. Draw the inferences from the clusters obtained."
   ]
  },
  {
   "cell_type": "markdown",
   "id": "8e7d93d9",
   "metadata": {},
   "source": [
    "#### Data Description:\n",
    "\n",
    "    The file EastWestAirlines contains information on passengers who belong to an airline’s frequent flier program. For each passenger the data include information on their mileage history and on different ways they accrued or spent miles in the last year. The goal is to try to identify clusters of passengers that have similar characteristics for the purpose of targeting different segments for different types of mileage offers.\n",
    "    ID --Unique ID\n",
    "\n",
    "    Balance--Number of miles eligible for award travel\n",
    "\n",
    "    Qual_mile--Number of miles counted as qualifying for Topflight status\n",
    "\n",
    "    cc1_miles -- Number of miles earned with freq. flyer credit card in the past 12 months:\n",
    "    cc2_miles -- Number of miles earned with Rewards credit card in the past 12 months:\n",
    "    cc3_miles -- Number of miles earned with Small Business credit card in the past 12 months:\n",
    "\n",
    "    1 = under 5,000\n",
    "    2 = 5,000 - 10,000\n",
    "    3 = 10,001 - 25,000\n",
    "    4 = 25,001 - 50,000\n",
    "    5 = over 50,000\n",
    "\n",
    "    Bonus_miles--Number of miles earned from non-flight bonus transactions in the past 12 months\n",
    "\n",
    "    Bonus_trans--Number of non-flight bonus transactions in the past 12 months\n",
    "\n",
    "    Flight_miles_12mo--Number of flight miles in the past 12 months\n",
    "\n",
    "    Flight_trans_12--Number of flight transactions in the past 12 months\n",
    "\n",
    "    Days_since_enrolled--Number of days since enrolled in flier program\n",
    "\n",
    "    Award--whether that person had award flight (free flight) or not"
   ]
  },
  {
   "cell_type": "markdown",
   "id": "8a6a265e",
   "metadata": {
    "ExecuteTime": {
     "end_time": "2022-11-07T12:36:16.903185Z",
     "start_time": "2022-11-07T12:36:16.673564Z"
    }
   },
   "source": [
    "### Project Background\n",
    "\n",
    "The goal is to try to identify clusters of passengers that have similar characteristics for the purpose of targeting different segments for different types of mileage offers."
   ]
  },
  {
   "cell_type": "markdown",
   "id": "e2cf5410",
   "metadata": {},
   "source": [
    "### Step-1 : Import libraries"
   ]
  },
  {
   "cell_type": "code",
   "execution_count": 1,
   "id": "bf73d1cb",
   "metadata": {
    "ExecuteTime": {
     "end_time": "2022-12-22T06:17:46.080282Z",
     "start_time": "2022-12-22T06:17:25.021743Z"
    }
   },
   "outputs": [],
   "source": [
    "import pandas as pd\n",
    "import numpy as np\n",
    "import matplotlib.pyplot as plt\n",
    "import seaborn as sb\n",
    "import warnings as warnings\n",
    "warnings.filterwarnings(\"ignore\")\n",
    "from sklearn.preprocessing import StandardScaler\n",
    "from sklearn.preprocessing import MinMaxScaler\n",
    "from scipy.cluster.hierarchy import linkage \n",
    "import scipy.cluster.hierarchy as sch\n",
    "from sklearn.cluster import AgglomerativeClustering\n",
    "import sklearn\n",
    "from sklearn.neighbors import NearestNeighbors  \n",
    "from sklearn.cluster import DBSCAN"
   ]
  },
  {
   "cell_type": "markdown",
   "id": "23e5d914",
   "metadata": {},
   "source": [
    "### Step-2 : Descriptive analysis"
   ]
  },
  {
   "cell_type": "markdown",
   "id": "9f55ab4f",
   "metadata": {},
   "source": [
    "### Step-2.1 : Working with Dataset"
   ]
  },
  {
   "cell_type": "markdown",
   "id": "30024290",
   "metadata": {},
   "source": [
    "#### Loading the Dataset"
   ]
  },
  {
   "cell_type": "code",
   "execution_count": 2,
   "id": "826ed971",
   "metadata": {
    "ExecuteTime": {
     "end_time": "2022-12-22T06:17:52.374962Z",
     "start_time": "2022-12-22T06:17:46.080282Z"
    }
   },
   "outputs": [],
   "source": [
    "# Passenger Travel data\n",
    "psngr_data = pd.read_excel(\"EastWestAirlines.xlsx\", sheet_name='data')"
   ]
  },
  {
   "cell_type": "markdown",
   "id": "c5e8b654",
   "metadata": {},
   "source": [
    "#### Exploring the dataset"
   ]
  },
  {
   "cell_type": "code",
   "execution_count": 3,
   "id": "48a3e928",
   "metadata": {
    "ExecuteTime": {
     "end_time": "2022-12-22T06:17:52.484612Z",
     "start_time": "2022-12-22T06:17:52.374962Z"
    }
   },
   "outputs": [
    {
     "data": {
      "text/html": [
       "<div>\n",
       "<style scoped>\n",
       "    .dataframe tbody tr th:only-of-type {\n",
       "        vertical-align: middle;\n",
       "    }\n",
       "\n",
       "    .dataframe tbody tr th {\n",
       "        vertical-align: top;\n",
       "    }\n",
       "\n",
       "    .dataframe thead th {\n",
       "        text-align: right;\n",
       "    }\n",
       "</style>\n",
       "<table border=\"1\" class=\"dataframe\">\n",
       "  <thead>\n",
       "    <tr style=\"text-align: right;\">\n",
       "      <th></th>\n",
       "      <th>ID#</th>\n",
       "      <th>Balance</th>\n",
       "      <th>Qual_miles</th>\n",
       "      <th>cc1_miles</th>\n",
       "      <th>cc2_miles</th>\n",
       "      <th>cc3_miles</th>\n",
       "      <th>Bonus_miles</th>\n",
       "      <th>Bonus_trans</th>\n",
       "      <th>Flight_miles_12mo</th>\n",
       "      <th>Flight_trans_12</th>\n",
       "      <th>Days_since_enroll</th>\n",
       "      <th>Award?</th>\n",
       "    </tr>\n",
       "  </thead>\n",
       "  <tbody>\n",
       "    <tr>\n",
       "      <th>0</th>\n",
       "      <td>1</td>\n",
       "      <td>28143</td>\n",
       "      <td>0</td>\n",
       "      <td>1</td>\n",
       "      <td>1</td>\n",
       "      <td>1</td>\n",
       "      <td>174</td>\n",
       "      <td>1</td>\n",
       "      <td>0</td>\n",
       "      <td>0</td>\n",
       "      <td>7000</td>\n",
       "      <td>0</td>\n",
       "    </tr>\n",
       "    <tr>\n",
       "      <th>1</th>\n",
       "      <td>2</td>\n",
       "      <td>19244</td>\n",
       "      <td>0</td>\n",
       "      <td>1</td>\n",
       "      <td>1</td>\n",
       "      <td>1</td>\n",
       "      <td>215</td>\n",
       "      <td>2</td>\n",
       "      <td>0</td>\n",
       "      <td>0</td>\n",
       "      <td>6968</td>\n",
       "      <td>0</td>\n",
       "    </tr>\n",
       "    <tr>\n",
       "      <th>2</th>\n",
       "      <td>3</td>\n",
       "      <td>41354</td>\n",
       "      <td>0</td>\n",
       "      <td>1</td>\n",
       "      <td>1</td>\n",
       "      <td>1</td>\n",
       "      <td>4123</td>\n",
       "      <td>4</td>\n",
       "      <td>0</td>\n",
       "      <td>0</td>\n",
       "      <td>7034</td>\n",
       "      <td>0</td>\n",
       "    </tr>\n",
       "    <tr>\n",
       "      <th>3</th>\n",
       "      <td>4</td>\n",
       "      <td>14776</td>\n",
       "      <td>0</td>\n",
       "      <td>1</td>\n",
       "      <td>1</td>\n",
       "      <td>1</td>\n",
       "      <td>500</td>\n",
       "      <td>1</td>\n",
       "      <td>0</td>\n",
       "      <td>0</td>\n",
       "      <td>6952</td>\n",
       "      <td>0</td>\n",
       "    </tr>\n",
       "    <tr>\n",
       "      <th>4</th>\n",
       "      <td>5</td>\n",
       "      <td>97752</td>\n",
       "      <td>0</td>\n",
       "      <td>4</td>\n",
       "      <td>1</td>\n",
       "      <td>1</td>\n",
       "      <td>43300</td>\n",
       "      <td>26</td>\n",
       "      <td>2077</td>\n",
       "      <td>4</td>\n",
       "      <td>6935</td>\n",
       "      <td>1</td>\n",
       "    </tr>\n",
       "    <tr>\n",
       "      <th>5</th>\n",
       "      <td>6</td>\n",
       "      <td>16420</td>\n",
       "      <td>0</td>\n",
       "      <td>1</td>\n",
       "      <td>1</td>\n",
       "      <td>1</td>\n",
       "      <td>0</td>\n",
       "      <td>0</td>\n",
       "      <td>0</td>\n",
       "      <td>0</td>\n",
       "      <td>6942</td>\n",
       "      <td>0</td>\n",
       "    </tr>\n",
       "    <tr>\n",
       "      <th>6</th>\n",
       "      <td>7</td>\n",
       "      <td>84914</td>\n",
       "      <td>0</td>\n",
       "      <td>3</td>\n",
       "      <td>1</td>\n",
       "      <td>1</td>\n",
       "      <td>27482</td>\n",
       "      <td>25</td>\n",
       "      <td>0</td>\n",
       "      <td>0</td>\n",
       "      <td>6994</td>\n",
       "      <td>0</td>\n",
       "    </tr>\n",
       "    <tr>\n",
       "      <th>7</th>\n",
       "      <td>8</td>\n",
       "      <td>20856</td>\n",
       "      <td>0</td>\n",
       "      <td>1</td>\n",
       "      <td>1</td>\n",
       "      <td>1</td>\n",
       "      <td>5250</td>\n",
       "      <td>4</td>\n",
       "      <td>250</td>\n",
       "      <td>1</td>\n",
       "      <td>6938</td>\n",
       "      <td>1</td>\n",
       "    </tr>\n",
       "    <tr>\n",
       "      <th>8</th>\n",
       "      <td>9</td>\n",
       "      <td>443003</td>\n",
       "      <td>0</td>\n",
       "      <td>3</td>\n",
       "      <td>2</td>\n",
       "      <td>1</td>\n",
       "      <td>1753</td>\n",
       "      <td>43</td>\n",
       "      <td>3850</td>\n",
       "      <td>12</td>\n",
       "      <td>6948</td>\n",
       "      <td>1</td>\n",
       "    </tr>\n",
       "    <tr>\n",
       "      <th>9</th>\n",
       "      <td>10</td>\n",
       "      <td>104860</td>\n",
       "      <td>0</td>\n",
       "      <td>3</td>\n",
       "      <td>1</td>\n",
       "      <td>1</td>\n",
       "      <td>28426</td>\n",
       "      <td>28</td>\n",
       "      <td>1150</td>\n",
       "      <td>3</td>\n",
       "      <td>6931</td>\n",
       "      <td>1</td>\n",
       "    </tr>\n",
       "  </tbody>\n",
       "</table>\n",
       "</div>"
      ],
      "text/plain": [
       "   ID#  Balance  Qual_miles  cc1_miles  cc2_miles  cc3_miles  Bonus_miles  \\\n",
       "0    1    28143           0          1          1          1          174   \n",
       "1    2    19244           0          1          1          1          215   \n",
       "2    3    41354           0          1          1          1         4123   \n",
       "3    4    14776           0          1          1          1          500   \n",
       "4    5    97752           0          4          1          1        43300   \n",
       "5    6    16420           0          1          1          1            0   \n",
       "6    7    84914           0          3          1          1        27482   \n",
       "7    8    20856           0          1          1          1         5250   \n",
       "8    9   443003           0          3          2          1         1753   \n",
       "9   10   104860           0          3          1          1        28426   \n",
       "\n",
       "   Bonus_trans  Flight_miles_12mo  Flight_trans_12  Days_since_enroll  Award?  \n",
       "0            1                  0                0               7000       0  \n",
       "1            2                  0                0               6968       0  \n",
       "2            4                  0                0               7034       0  \n",
       "3            1                  0                0               6952       0  \n",
       "4           26               2077                4               6935       1  \n",
       "5            0                  0                0               6942       0  \n",
       "6           25                  0                0               6994       0  \n",
       "7            4                250                1               6938       1  \n",
       "8           43               3850               12               6948       1  \n",
       "9           28               1150                3               6931       1  "
      ]
     },
     "execution_count": 3,
     "metadata": {},
     "output_type": "execute_result"
    }
   ],
   "source": [
    "# Displaying first ten records\n",
    "psngr_data.head(10)"
   ]
  },
  {
   "cell_type": "code",
   "execution_count": 4,
   "id": "9530e992",
   "metadata": {
    "ExecuteTime": {
     "end_time": "2022-12-22T06:17:52.500629Z",
     "start_time": "2022-12-22T06:17:52.484612Z"
    }
   },
   "outputs": [
    {
     "data": {
      "text/plain": [
       "(3999, 12)"
      ]
     },
     "execution_count": 4,
     "metadata": {},
     "output_type": "execute_result"
    }
   ],
   "source": [
    "# Shape of the data\n",
    "psngr_data.shape"
   ]
  },
  {
   "cell_type": "code",
   "execution_count": 5,
   "id": "85ecb66a",
   "metadata": {
    "ExecuteTime": {
     "end_time": "2022-12-22T06:17:52.563122Z",
     "start_time": "2022-12-22T06:17:52.500629Z"
    },
    "scrolled": true
   },
   "outputs": [
    {
     "data": {
      "text/html": [
       "<div>\n",
       "<style scoped>\n",
       "    .dataframe tbody tr th:only-of-type {\n",
       "        vertical-align: middle;\n",
       "    }\n",
       "\n",
       "    .dataframe tbody tr th {\n",
       "        vertical-align: top;\n",
       "    }\n",
       "\n",
       "    .dataframe thead th {\n",
       "        text-align: right;\n",
       "    }\n",
       "</style>\n",
       "<table border=\"1\" class=\"dataframe\">\n",
       "  <thead>\n",
       "    <tr style=\"text-align: right;\">\n",
       "      <th></th>\n",
       "      <th>ID#</th>\n",
       "      <th>Balance</th>\n",
       "      <th>Qual_miles</th>\n",
       "      <th>cc1_miles</th>\n",
       "      <th>cc2_miles</th>\n",
       "      <th>cc3_miles</th>\n",
       "      <th>Bonus_miles</th>\n",
       "      <th>Bonus_trans</th>\n",
       "      <th>Flight_miles_12mo</th>\n",
       "      <th>Flight_trans_12</th>\n",
       "      <th>Days_since_enroll</th>\n",
       "      <th>Award?</th>\n",
       "    </tr>\n",
       "  </thead>\n",
       "  <tbody>\n",
       "    <tr>\n",
       "      <th>count</th>\n",
       "      <td>3999.000000</td>\n",
       "      <td>3.999000e+03</td>\n",
       "      <td>3999.000000</td>\n",
       "      <td>3999.000000</td>\n",
       "      <td>3999.000000</td>\n",
       "      <td>3999.000000</td>\n",
       "      <td>3999.000000</td>\n",
       "      <td>3999.00000</td>\n",
       "      <td>3999.000000</td>\n",
       "      <td>3999.000000</td>\n",
       "      <td>3999.00000</td>\n",
       "      <td>3999.000000</td>\n",
       "    </tr>\n",
       "    <tr>\n",
       "      <th>mean</th>\n",
       "      <td>2014.819455</td>\n",
       "      <td>7.360133e+04</td>\n",
       "      <td>144.114529</td>\n",
       "      <td>2.059515</td>\n",
       "      <td>1.014504</td>\n",
       "      <td>1.012253</td>\n",
       "      <td>17144.846212</td>\n",
       "      <td>11.60190</td>\n",
       "      <td>460.055764</td>\n",
       "      <td>1.373593</td>\n",
       "      <td>4118.55939</td>\n",
       "      <td>0.370343</td>\n",
       "    </tr>\n",
       "    <tr>\n",
       "      <th>std</th>\n",
       "      <td>1160.764358</td>\n",
       "      <td>1.007757e+05</td>\n",
       "      <td>773.663804</td>\n",
       "      <td>1.376919</td>\n",
       "      <td>0.147650</td>\n",
       "      <td>0.195241</td>\n",
       "      <td>24150.967826</td>\n",
       "      <td>9.60381</td>\n",
       "      <td>1400.209171</td>\n",
       "      <td>3.793172</td>\n",
       "      <td>2065.13454</td>\n",
       "      <td>0.482957</td>\n",
       "    </tr>\n",
       "    <tr>\n",
       "      <th>min</th>\n",
       "      <td>1.000000</td>\n",
       "      <td>0.000000e+00</td>\n",
       "      <td>0.000000</td>\n",
       "      <td>1.000000</td>\n",
       "      <td>1.000000</td>\n",
       "      <td>1.000000</td>\n",
       "      <td>0.000000</td>\n",
       "      <td>0.00000</td>\n",
       "      <td>0.000000</td>\n",
       "      <td>0.000000</td>\n",
       "      <td>2.00000</td>\n",
       "      <td>0.000000</td>\n",
       "    </tr>\n",
       "    <tr>\n",
       "      <th>25%</th>\n",
       "      <td>1010.500000</td>\n",
       "      <td>1.852750e+04</td>\n",
       "      <td>0.000000</td>\n",
       "      <td>1.000000</td>\n",
       "      <td>1.000000</td>\n",
       "      <td>1.000000</td>\n",
       "      <td>1250.000000</td>\n",
       "      <td>3.00000</td>\n",
       "      <td>0.000000</td>\n",
       "      <td>0.000000</td>\n",
       "      <td>2330.00000</td>\n",
       "      <td>0.000000</td>\n",
       "    </tr>\n",
       "    <tr>\n",
       "      <th>50%</th>\n",
       "      <td>2016.000000</td>\n",
       "      <td>4.309700e+04</td>\n",
       "      <td>0.000000</td>\n",
       "      <td>1.000000</td>\n",
       "      <td>1.000000</td>\n",
       "      <td>1.000000</td>\n",
       "      <td>7171.000000</td>\n",
       "      <td>12.00000</td>\n",
       "      <td>0.000000</td>\n",
       "      <td>0.000000</td>\n",
       "      <td>4096.00000</td>\n",
       "      <td>0.000000</td>\n",
       "    </tr>\n",
       "    <tr>\n",
       "      <th>75%</th>\n",
       "      <td>3020.500000</td>\n",
       "      <td>9.240400e+04</td>\n",
       "      <td>0.000000</td>\n",
       "      <td>3.000000</td>\n",
       "      <td>1.000000</td>\n",
       "      <td>1.000000</td>\n",
       "      <td>23800.500000</td>\n",
       "      <td>17.00000</td>\n",
       "      <td>311.000000</td>\n",
       "      <td>1.000000</td>\n",
       "      <td>5790.50000</td>\n",
       "      <td>1.000000</td>\n",
       "    </tr>\n",
       "    <tr>\n",
       "      <th>max</th>\n",
       "      <td>4021.000000</td>\n",
       "      <td>1.704838e+06</td>\n",
       "      <td>11148.000000</td>\n",
       "      <td>5.000000</td>\n",
       "      <td>3.000000</td>\n",
       "      <td>5.000000</td>\n",
       "      <td>263685.000000</td>\n",
       "      <td>86.00000</td>\n",
       "      <td>30817.000000</td>\n",
       "      <td>53.000000</td>\n",
       "      <td>8296.00000</td>\n",
       "      <td>1.000000</td>\n",
       "    </tr>\n",
       "  </tbody>\n",
       "</table>\n",
       "</div>"
      ],
      "text/plain": [
       "               ID#       Balance    Qual_miles    cc1_miles    cc2_miles  \\\n",
       "count  3999.000000  3.999000e+03   3999.000000  3999.000000  3999.000000   \n",
       "mean   2014.819455  7.360133e+04    144.114529     2.059515     1.014504   \n",
       "std    1160.764358  1.007757e+05    773.663804     1.376919     0.147650   \n",
       "min       1.000000  0.000000e+00      0.000000     1.000000     1.000000   \n",
       "25%    1010.500000  1.852750e+04      0.000000     1.000000     1.000000   \n",
       "50%    2016.000000  4.309700e+04      0.000000     1.000000     1.000000   \n",
       "75%    3020.500000  9.240400e+04      0.000000     3.000000     1.000000   \n",
       "max    4021.000000  1.704838e+06  11148.000000     5.000000     3.000000   \n",
       "\n",
       "         cc3_miles    Bonus_miles  Bonus_trans  Flight_miles_12mo  \\\n",
       "count  3999.000000    3999.000000   3999.00000        3999.000000   \n",
       "mean      1.012253   17144.846212     11.60190         460.055764   \n",
       "std       0.195241   24150.967826      9.60381        1400.209171   \n",
       "min       1.000000       0.000000      0.00000           0.000000   \n",
       "25%       1.000000    1250.000000      3.00000           0.000000   \n",
       "50%       1.000000    7171.000000     12.00000           0.000000   \n",
       "75%       1.000000   23800.500000     17.00000         311.000000   \n",
       "max       5.000000  263685.000000     86.00000       30817.000000   \n",
       "\n",
       "       Flight_trans_12  Days_since_enroll       Award?  \n",
       "count      3999.000000         3999.00000  3999.000000  \n",
       "mean          1.373593         4118.55939     0.370343  \n",
       "std           3.793172         2065.13454     0.482957  \n",
       "min           0.000000            2.00000     0.000000  \n",
       "25%           0.000000         2330.00000     0.000000  \n",
       "50%           0.000000         4096.00000     0.000000  \n",
       "75%           1.000000         5790.50000     1.000000  \n",
       "max          53.000000         8296.00000     1.000000  "
      ]
     },
     "execution_count": 5,
     "metadata": {},
     "output_type": "execute_result"
    }
   ],
   "source": [
    "# Summary of the data\n",
    "psngr_data.describe()"
   ]
  },
  {
   "cell_type": "code",
   "execution_count": 6,
   "id": "fab60c59",
   "metadata": {
    "ExecuteTime": {
     "end_time": "2022-12-22T06:17:52.626000Z",
     "start_time": "2022-12-22T06:17:52.563122Z"
    }
   },
   "outputs": [
    {
     "name": "stdout",
     "output_type": "stream",
     "text": [
      "<class 'pandas.core.frame.DataFrame'>\n",
      "RangeIndex: 3999 entries, 0 to 3998\n",
      "Data columns (total 12 columns):\n",
      " #   Column             Non-Null Count  Dtype\n",
      "---  ------             --------------  -----\n",
      " 0   ID#                3999 non-null   int64\n",
      " 1   Balance            3999 non-null   int64\n",
      " 2   Qual_miles         3999 non-null   int64\n",
      " 3   cc1_miles          3999 non-null   int64\n",
      " 4   cc2_miles          3999 non-null   int64\n",
      " 5   cc3_miles          3999 non-null   int64\n",
      " 6   Bonus_miles        3999 non-null   int64\n",
      " 7   Bonus_trans        3999 non-null   int64\n",
      " 8   Flight_miles_12mo  3999 non-null   int64\n",
      " 9   Flight_trans_12    3999 non-null   int64\n",
      " 10  Days_since_enroll  3999 non-null   int64\n",
      " 11  Award?             3999 non-null   int64\n",
      "dtypes: int64(12)\n",
      "memory usage: 375.0 KB\n"
     ]
    }
   ],
   "source": [
    "# Check the data types\n",
    "psngr_data.info()"
   ]
  },
  {
   "cell_type": "markdown",
   "id": "73ca4c47",
   "metadata": {},
   "source": [
    "#### Modifying the dataset"
   ]
  },
  {
   "cell_type": "code",
   "execution_count": 7,
   "id": "320711ba",
   "metadata": {
    "ExecuteTime": {
     "end_time": "2022-12-22T06:17:52.641620Z",
     "start_time": "2022-12-22T06:17:52.626000Z"
    }
   },
   "outputs": [
    {
     "data": {
      "text/html": [
       "<div>\n",
       "<style scoped>\n",
       "    .dataframe tbody tr th:only-of-type {\n",
       "        vertical-align: middle;\n",
       "    }\n",
       "\n",
       "    .dataframe tbody tr th {\n",
       "        vertical-align: top;\n",
       "    }\n",
       "\n",
       "    .dataframe thead th {\n",
       "        text-align: right;\n",
       "    }\n",
       "</style>\n",
       "<table border=\"1\" class=\"dataframe\">\n",
       "  <thead>\n",
       "    <tr style=\"text-align: right;\">\n",
       "      <th></th>\n",
       "      <th>ID</th>\n",
       "      <th>Trvl_Bal</th>\n",
       "      <th>Qlfy_miles</th>\n",
       "      <th>cc1_miles</th>\n",
       "      <th>cc2_miles</th>\n",
       "      <th>cc3_miles</th>\n",
       "      <th>Bonus_miles</th>\n",
       "      <th>Bonus_trans</th>\n",
       "      <th>Flight_miles</th>\n",
       "      <th>Flight_trans</th>\n",
       "      <th>Enroll_period</th>\n",
       "      <th>Award</th>\n",
       "    </tr>\n",
       "  </thead>\n",
       "  <tbody>\n",
       "    <tr>\n",
       "      <th>0</th>\n",
       "      <td>1</td>\n",
       "      <td>28143</td>\n",
       "      <td>0</td>\n",
       "      <td>1</td>\n",
       "      <td>1</td>\n",
       "      <td>1</td>\n",
       "      <td>174</td>\n",
       "      <td>1</td>\n",
       "      <td>0</td>\n",
       "      <td>0</td>\n",
       "      <td>7000</td>\n",
       "      <td>0</td>\n",
       "    </tr>\n",
       "    <tr>\n",
       "      <th>1</th>\n",
       "      <td>2</td>\n",
       "      <td>19244</td>\n",
       "      <td>0</td>\n",
       "      <td>1</td>\n",
       "      <td>1</td>\n",
       "      <td>1</td>\n",
       "      <td>215</td>\n",
       "      <td>2</td>\n",
       "      <td>0</td>\n",
       "      <td>0</td>\n",
       "      <td>6968</td>\n",
       "      <td>0</td>\n",
       "    </tr>\n",
       "    <tr>\n",
       "      <th>2</th>\n",
       "      <td>3</td>\n",
       "      <td>41354</td>\n",
       "      <td>0</td>\n",
       "      <td>1</td>\n",
       "      <td>1</td>\n",
       "      <td>1</td>\n",
       "      <td>4123</td>\n",
       "      <td>4</td>\n",
       "      <td>0</td>\n",
       "      <td>0</td>\n",
       "      <td>7034</td>\n",
       "      <td>0</td>\n",
       "    </tr>\n",
       "    <tr>\n",
       "      <th>3</th>\n",
       "      <td>4</td>\n",
       "      <td>14776</td>\n",
       "      <td>0</td>\n",
       "      <td>1</td>\n",
       "      <td>1</td>\n",
       "      <td>1</td>\n",
       "      <td>500</td>\n",
       "      <td>1</td>\n",
       "      <td>0</td>\n",
       "      <td>0</td>\n",
       "      <td>6952</td>\n",
       "      <td>0</td>\n",
       "    </tr>\n",
       "    <tr>\n",
       "      <th>4</th>\n",
       "      <td>5</td>\n",
       "      <td>97752</td>\n",
       "      <td>0</td>\n",
       "      <td>4</td>\n",
       "      <td>1</td>\n",
       "      <td>1</td>\n",
       "      <td>43300</td>\n",
       "      <td>26</td>\n",
       "      <td>2077</td>\n",
       "      <td>4</td>\n",
       "      <td>6935</td>\n",
       "      <td>1</td>\n",
       "    </tr>\n",
       "    <tr>\n",
       "      <th>5</th>\n",
       "      <td>6</td>\n",
       "      <td>16420</td>\n",
       "      <td>0</td>\n",
       "      <td>1</td>\n",
       "      <td>1</td>\n",
       "      <td>1</td>\n",
       "      <td>0</td>\n",
       "      <td>0</td>\n",
       "      <td>0</td>\n",
       "      <td>0</td>\n",
       "      <td>6942</td>\n",
       "      <td>0</td>\n",
       "    </tr>\n",
       "    <tr>\n",
       "      <th>6</th>\n",
       "      <td>7</td>\n",
       "      <td>84914</td>\n",
       "      <td>0</td>\n",
       "      <td>3</td>\n",
       "      <td>1</td>\n",
       "      <td>1</td>\n",
       "      <td>27482</td>\n",
       "      <td>25</td>\n",
       "      <td>0</td>\n",
       "      <td>0</td>\n",
       "      <td>6994</td>\n",
       "      <td>0</td>\n",
       "    </tr>\n",
       "    <tr>\n",
       "      <th>7</th>\n",
       "      <td>8</td>\n",
       "      <td>20856</td>\n",
       "      <td>0</td>\n",
       "      <td>1</td>\n",
       "      <td>1</td>\n",
       "      <td>1</td>\n",
       "      <td>5250</td>\n",
       "      <td>4</td>\n",
       "      <td>250</td>\n",
       "      <td>1</td>\n",
       "      <td>6938</td>\n",
       "      <td>1</td>\n",
       "    </tr>\n",
       "    <tr>\n",
       "      <th>8</th>\n",
       "      <td>9</td>\n",
       "      <td>443003</td>\n",
       "      <td>0</td>\n",
       "      <td>3</td>\n",
       "      <td>2</td>\n",
       "      <td>1</td>\n",
       "      <td>1753</td>\n",
       "      <td>43</td>\n",
       "      <td>3850</td>\n",
       "      <td>12</td>\n",
       "      <td>6948</td>\n",
       "      <td>1</td>\n",
       "    </tr>\n",
       "    <tr>\n",
       "      <th>9</th>\n",
       "      <td>10</td>\n",
       "      <td>104860</td>\n",
       "      <td>0</td>\n",
       "      <td>3</td>\n",
       "      <td>1</td>\n",
       "      <td>1</td>\n",
       "      <td>28426</td>\n",
       "      <td>28</td>\n",
       "      <td>1150</td>\n",
       "      <td>3</td>\n",
       "      <td>6931</td>\n",
       "      <td>1</td>\n",
       "    </tr>\n",
       "  </tbody>\n",
       "</table>\n",
       "</div>"
      ],
      "text/plain": [
       "   ID  Trvl_Bal  Qlfy_miles  cc1_miles  cc2_miles  cc3_miles  Bonus_miles  \\\n",
       "0   1     28143           0          1          1          1          174   \n",
       "1   2     19244           0          1          1          1          215   \n",
       "2   3     41354           0          1          1          1         4123   \n",
       "3   4     14776           0          1          1          1          500   \n",
       "4   5     97752           0          4          1          1        43300   \n",
       "5   6     16420           0          1          1          1            0   \n",
       "6   7     84914           0          3          1          1        27482   \n",
       "7   8     20856           0          1          1          1         5250   \n",
       "8   9    443003           0          3          2          1         1753   \n",
       "9  10    104860           0          3          1          1        28426   \n",
       "\n",
       "   Bonus_trans  Flight_miles  Flight_trans  Enroll_period  Award  \n",
       "0            1             0             0           7000      0  \n",
       "1            2             0             0           6968      0  \n",
       "2            4             0             0           7034      0  \n",
       "3            1             0             0           6952      0  \n",
       "4           26          2077             4           6935      1  \n",
       "5            0             0             0           6942      0  \n",
       "6           25             0             0           6994      0  \n",
       "7            4           250             1           6938      1  \n",
       "8           43          3850            12           6948      1  \n",
       "9           28          1150             3           6931      1  "
      ]
     },
     "execution_count": 7,
     "metadata": {},
     "output_type": "execute_result"
    }
   ],
   "source": [
    "# Renaming the columns\n",
    "psngr_data = psngr_data.rename(columns={\"ID#\":\"ID\",\"Balance\":\"Trvl_Bal\",\"Qual_miles\":\"Qlfy_miles\",\"Flight_miles_12mo\":\"Flight_miles\",\"Flight_trans_12\":\"Flight_trans\",\"Days_since_enroll\":\"Enroll_period\",\"Award?\":\"Award\"})\n",
    "psngr_data.head(10)"
   ]
  },
  {
   "cell_type": "code",
   "execution_count": 8,
   "id": "22c9c737",
   "metadata": {
    "ExecuteTime": {
     "end_time": "2022-12-22T06:17:52.672864Z",
     "start_time": "2022-12-22T06:17:52.641620Z"
    }
   },
   "outputs": [
    {
     "data": {
      "text/html": [
       "<div>\n",
       "<style scoped>\n",
       "    .dataframe tbody tr th:only-of-type {\n",
       "        vertical-align: middle;\n",
       "    }\n",
       "\n",
       "    .dataframe tbody tr th {\n",
       "        vertical-align: top;\n",
       "    }\n",
       "\n",
       "    .dataframe thead th {\n",
       "        text-align: right;\n",
       "    }\n",
       "</style>\n",
       "<table border=\"1\" class=\"dataframe\">\n",
       "  <thead>\n",
       "    <tr style=\"text-align: right;\">\n",
       "      <th></th>\n",
       "      <th>Trvl_Bal</th>\n",
       "      <th>Qlfy_miles</th>\n",
       "      <th>cc1_miles</th>\n",
       "      <th>cc2_miles</th>\n",
       "      <th>cc3_miles</th>\n",
       "      <th>Bonus_miles</th>\n",
       "      <th>Bonus_trans</th>\n",
       "      <th>Flight_miles</th>\n",
       "      <th>Flight_trans</th>\n",
       "      <th>Enroll_period</th>\n",
       "      <th>Award</th>\n",
       "    </tr>\n",
       "  </thead>\n",
       "  <tbody>\n",
       "    <tr>\n",
       "      <th>0</th>\n",
       "      <td>28143</td>\n",
       "      <td>0</td>\n",
       "      <td>1</td>\n",
       "      <td>1</td>\n",
       "      <td>1</td>\n",
       "      <td>174</td>\n",
       "      <td>1</td>\n",
       "      <td>0</td>\n",
       "      <td>0</td>\n",
       "      <td>7000</td>\n",
       "      <td>0</td>\n",
       "    </tr>\n",
       "    <tr>\n",
       "      <th>1</th>\n",
       "      <td>19244</td>\n",
       "      <td>0</td>\n",
       "      <td>1</td>\n",
       "      <td>1</td>\n",
       "      <td>1</td>\n",
       "      <td>215</td>\n",
       "      <td>2</td>\n",
       "      <td>0</td>\n",
       "      <td>0</td>\n",
       "      <td>6968</td>\n",
       "      <td>0</td>\n",
       "    </tr>\n",
       "    <tr>\n",
       "      <th>2</th>\n",
       "      <td>41354</td>\n",
       "      <td>0</td>\n",
       "      <td>1</td>\n",
       "      <td>1</td>\n",
       "      <td>1</td>\n",
       "      <td>4123</td>\n",
       "      <td>4</td>\n",
       "      <td>0</td>\n",
       "      <td>0</td>\n",
       "      <td>7034</td>\n",
       "      <td>0</td>\n",
       "    </tr>\n",
       "    <tr>\n",
       "      <th>3</th>\n",
       "      <td>14776</td>\n",
       "      <td>0</td>\n",
       "      <td>1</td>\n",
       "      <td>1</td>\n",
       "      <td>1</td>\n",
       "      <td>500</td>\n",
       "      <td>1</td>\n",
       "      <td>0</td>\n",
       "      <td>0</td>\n",
       "      <td>6952</td>\n",
       "      <td>0</td>\n",
       "    </tr>\n",
       "    <tr>\n",
       "      <th>4</th>\n",
       "      <td>97752</td>\n",
       "      <td>0</td>\n",
       "      <td>4</td>\n",
       "      <td>1</td>\n",
       "      <td>1</td>\n",
       "      <td>43300</td>\n",
       "      <td>26</td>\n",
       "      <td>2077</td>\n",
       "      <td>4</td>\n",
       "      <td>6935</td>\n",
       "      <td>1</td>\n",
       "    </tr>\n",
       "    <tr>\n",
       "      <th>...</th>\n",
       "      <td>...</td>\n",
       "      <td>...</td>\n",
       "      <td>...</td>\n",
       "      <td>...</td>\n",
       "      <td>...</td>\n",
       "      <td>...</td>\n",
       "      <td>...</td>\n",
       "      <td>...</td>\n",
       "      <td>...</td>\n",
       "      <td>...</td>\n",
       "      <td>...</td>\n",
       "    </tr>\n",
       "    <tr>\n",
       "      <th>3994</th>\n",
       "      <td>18476</td>\n",
       "      <td>0</td>\n",
       "      <td>1</td>\n",
       "      <td>1</td>\n",
       "      <td>1</td>\n",
       "      <td>8525</td>\n",
       "      <td>4</td>\n",
       "      <td>200</td>\n",
       "      <td>1</td>\n",
       "      <td>1403</td>\n",
       "      <td>1</td>\n",
       "    </tr>\n",
       "    <tr>\n",
       "      <th>3995</th>\n",
       "      <td>64385</td>\n",
       "      <td>0</td>\n",
       "      <td>1</td>\n",
       "      <td>1</td>\n",
       "      <td>1</td>\n",
       "      <td>981</td>\n",
       "      <td>5</td>\n",
       "      <td>0</td>\n",
       "      <td>0</td>\n",
       "      <td>1395</td>\n",
       "      <td>1</td>\n",
       "    </tr>\n",
       "    <tr>\n",
       "      <th>3996</th>\n",
       "      <td>73597</td>\n",
       "      <td>0</td>\n",
       "      <td>3</td>\n",
       "      <td>1</td>\n",
       "      <td>1</td>\n",
       "      <td>25447</td>\n",
       "      <td>8</td>\n",
       "      <td>0</td>\n",
       "      <td>0</td>\n",
       "      <td>1402</td>\n",
       "      <td>1</td>\n",
       "    </tr>\n",
       "    <tr>\n",
       "      <th>3997</th>\n",
       "      <td>54899</td>\n",
       "      <td>0</td>\n",
       "      <td>1</td>\n",
       "      <td>1</td>\n",
       "      <td>1</td>\n",
       "      <td>500</td>\n",
       "      <td>1</td>\n",
       "      <td>500</td>\n",
       "      <td>1</td>\n",
       "      <td>1401</td>\n",
       "      <td>0</td>\n",
       "    </tr>\n",
       "    <tr>\n",
       "      <th>3998</th>\n",
       "      <td>3016</td>\n",
       "      <td>0</td>\n",
       "      <td>1</td>\n",
       "      <td>1</td>\n",
       "      <td>1</td>\n",
       "      <td>0</td>\n",
       "      <td>0</td>\n",
       "      <td>0</td>\n",
       "      <td>0</td>\n",
       "      <td>1398</td>\n",
       "      <td>0</td>\n",
       "    </tr>\n",
       "  </tbody>\n",
       "</table>\n",
       "<p>3999 rows × 11 columns</p>\n",
       "</div>"
      ],
      "text/plain": [
       "      Trvl_Bal  Qlfy_miles  cc1_miles  cc2_miles  cc3_miles  Bonus_miles  \\\n",
       "0        28143           0          1          1          1          174   \n",
       "1        19244           0          1          1          1          215   \n",
       "2        41354           0          1          1          1         4123   \n",
       "3        14776           0          1          1          1          500   \n",
       "4        97752           0          4          1          1        43300   \n",
       "...        ...         ...        ...        ...        ...          ...   \n",
       "3994     18476           0          1          1          1         8525   \n",
       "3995     64385           0          1          1          1          981   \n",
       "3996     73597           0          3          1          1        25447   \n",
       "3997     54899           0          1          1          1          500   \n",
       "3998      3016           0          1          1          1            0   \n",
       "\n",
       "      Bonus_trans  Flight_miles  Flight_trans  Enroll_period  Award  \n",
       "0               1             0             0           7000      0  \n",
       "1               2             0             0           6968      0  \n",
       "2               4             0             0           7034      0  \n",
       "3               1             0             0           6952      0  \n",
       "4              26          2077             4           6935      1  \n",
       "...           ...           ...           ...            ...    ...  \n",
       "3994            4           200             1           1403      1  \n",
       "3995            5             0             0           1395      1  \n",
       "3996            8             0             0           1402      1  \n",
       "3997            1           500             1           1401      0  \n",
       "3998            0             0             0           1398      0  \n",
       "\n",
       "[3999 rows x 11 columns]"
      ]
     },
     "execution_count": 8,
     "metadata": {},
     "output_type": "execute_result"
    }
   ],
   "source": [
    "psngr_data = psngr_data.drop(['ID'],axis=1)\n",
    "psngr_data"
   ]
  },
  {
   "cell_type": "markdown",
   "id": "8fc274b3",
   "metadata": {},
   "source": [
    "### Step-2.2 : Handling missing values"
   ]
  },
  {
   "cell_type": "code",
   "execution_count": 9,
   "id": "d1afc980",
   "metadata": {
    "ExecuteTime": {
     "end_time": "2022-12-22T06:17:52.782256Z",
     "start_time": "2022-12-22T06:17:52.672864Z"
    }
   },
   "outputs": [
    {
     "data": {
      "text/plain": [
       "Trvl_Bal         0\n",
       "Qlfy_miles       0\n",
       "cc1_miles        0\n",
       "cc2_miles        0\n",
       "cc3_miles        0\n",
       "Bonus_miles      0\n",
       "Bonus_trans      0\n",
       "Flight_miles     0\n",
       "Flight_trans     0\n",
       "Enroll_period    0\n",
       "Award            0\n",
       "dtype: int64"
      ]
     },
     "execution_count": 9,
     "metadata": {},
     "output_type": "execute_result"
    }
   ],
   "source": [
    "# Check for Null values\n",
    "psngr_data.isnull().sum()"
   ]
  },
  {
   "cell_type": "code",
   "execution_count": 10,
   "id": "b4fa93bf",
   "metadata": {
    "ExecuteTime": {
     "end_time": "2022-12-22T06:17:52.860871Z",
     "start_time": "2022-12-22T06:17:52.782256Z"
    }
   },
   "outputs": [
    {
     "data": {
      "text/plain": [
       "(1, 11)"
      ]
     },
     "execution_count": 10,
     "metadata": {},
     "output_type": "execute_result"
    }
   ],
   "source": [
    "# Check for duplicate values\n",
    "psngr_data[psngr_data.duplicated()].shape"
   ]
  },
  {
   "cell_type": "code",
   "execution_count": 11,
   "id": "953f27b7",
   "metadata": {
    "ExecuteTime": {
     "end_time": "2022-12-22T06:17:52.892447Z",
     "start_time": "2022-12-22T06:17:52.860871Z"
    },
    "scrolled": true
   },
   "outputs": [
    {
     "data": {
      "text/html": [
       "<div>\n",
       "<style scoped>\n",
       "    .dataframe tbody tr th:only-of-type {\n",
       "        vertical-align: middle;\n",
       "    }\n",
       "\n",
       "    .dataframe tbody tr th {\n",
       "        vertical-align: top;\n",
       "    }\n",
       "\n",
       "    .dataframe thead th {\n",
       "        text-align: right;\n",
       "    }\n",
       "</style>\n",
       "<table border=\"1\" class=\"dataframe\">\n",
       "  <thead>\n",
       "    <tr style=\"text-align: right;\">\n",
       "      <th></th>\n",
       "      <th>Trvl_Bal</th>\n",
       "      <th>Qlfy_miles</th>\n",
       "      <th>cc1_miles</th>\n",
       "      <th>cc2_miles</th>\n",
       "      <th>cc3_miles</th>\n",
       "      <th>Bonus_miles</th>\n",
       "      <th>Bonus_trans</th>\n",
       "      <th>Flight_miles</th>\n",
       "      <th>Flight_trans</th>\n",
       "      <th>Enroll_period</th>\n",
       "      <th>Award</th>\n",
       "    </tr>\n",
       "  </thead>\n",
       "  <tbody>\n",
       "    <tr>\n",
       "      <th>3876</th>\n",
       "      <td>1000</td>\n",
       "      <td>0</td>\n",
       "      <td>1</td>\n",
       "      <td>1</td>\n",
       "      <td>1</td>\n",
       "      <td>0</td>\n",
       "      <td>0</td>\n",
       "      <td>0</td>\n",
       "      <td>0</td>\n",
       "      <td>1597</td>\n",
       "      <td>0</td>\n",
       "    </tr>\n",
       "  </tbody>\n",
       "</table>\n",
       "</div>"
      ],
      "text/plain": [
       "      Trvl_Bal  Qlfy_miles  cc1_miles  cc2_miles  cc3_miles  Bonus_miles  \\\n",
       "3876      1000           0          1          1          1            0   \n",
       "\n",
       "      Bonus_trans  Flight_miles  Flight_trans  Enroll_period  Award  \n",
       "3876            0             0             0           1597      0  "
      ]
     },
     "execution_count": 11,
     "metadata": {},
     "output_type": "execute_result"
    }
   ],
   "source": [
    "psngr_data[psngr_data.duplicated()]"
   ]
  },
  {
   "cell_type": "code",
   "execution_count": 12,
   "id": "0a327f89",
   "metadata": {
    "ExecuteTime": {
     "end_time": "2022-12-22T06:17:52.922584Z",
     "start_time": "2022-12-22T06:17:52.892447Z"
    }
   },
   "outputs": [
    {
     "data": {
      "text/plain": [
       "(3998, 11)"
      ]
     },
     "execution_count": 12,
     "metadata": {},
     "output_type": "execute_result"
    }
   ],
   "source": [
    "# As there is a duplicate observation, remove it from the dataset\n",
    "psngr_data = psngr_data.drop_duplicates()\n",
    "psngr_data.shape"
   ]
  },
  {
   "cell_type": "code",
   "execution_count": 13,
   "id": "98ec595c",
   "metadata": {
    "ExecuteTime": {
     "end_time": "2022-12-22T06:17:52.952946Z",
     "start_time": "2022-12-22T06:17:52.926573Z"
    }
   },
   "outputs": [
    {
     "data": {
      "text/html": [
       "<div>\n",
       "<style scoped>\n",
       "    .dataframe tbody tr th:only-of-type {\n",
       "        vertical-align: middle;\n",
       "    }\n",
       "\n",
       "    .dataframe tbody tr th {\n",
       "        vertical-align: top;\n",
       "    }\n",
       "\n",
       "    .dataframe thead th {\n",
       "        text-align: right;\n",
       "    }\n",
       "</style>\n",
       "<table border=\"1\" class=\"dataframe\">\n",
       "  <thead>\n",
       "    <tr style=\"text-align: right;\">\n",
       "      <th></th>\n",
       "      <th>Trvl_Bal</th>\n",
       "      <th>Qlfy_miles</th>\n",
       "      <th>cc1_miles</th>\n",
       "      <th>cc2_miles</th>\n",
       "      <th>cc3_miles</th>\n",
       "      <th>Bonus_miles</th>\n",
       "      <th>Bonus_trans</th>\n",
       "      <th>Flight_miles</th>\n",
       "      <th>Flight_trans</th>\n",
       "      <th>Enroll_period</th>\n",
       "      <th>Award</th>\n",
       "    </tr>\n",
       "  </thead>\n",
       "  <tbody>\n",
       "    <tr>\n",
       "      <th>0</th>\n",
       "      <td>28143</td>\n",
       "      <td>0</td>\n",
       "      <td>1</td>\n",
       "      <td>1</td>\n",
       "      <td>1</td>\n",
       "      <td>174</td>\n",
       "      <td>1</td>\n",
       "      <td>0</td>\n",
       "      <td>0</td>\n",
       "      <td>7000</td>\n",
       "      <td>0</td>\n",
       "    </tr>\n",
       "    <tr>\n",
       "      <th>1</th>\n",
       "      <td>19244</td>\n",
       "      <td>0</td>\n",
       "      <td>1</td>\n",
       "      <td>1</td>\n",
       "      <td>1</td>\n",
       "      <td>215</td>\n",
       "      <td>2</td>\n",
       "      <td>0</td>\n",
       "      <td>0</td>\n",
       "      <td>6968</td>\n",
       "      <td>0</td>\n",
       "    </tr>\n",
       "    <tr>\n",
       "      <th>2</th>\n",
       "      <td>41354</td>\n",
       "      <td>0</td>\n",
       "      <td>1</td>\n",
       "      <td>1</td>\n",
       "      <td>1</td>\n",
       "      <td>4123</td>\n",
       "      <td>4</td>\n",
       "      <td>0</td>\n",
       "      <td>0</td>\n",
       "      <td>7034</td>\n",
       "      <td>0</td>\n",
       "    </tr>\n",
       "    <tr>\n",
       "      <th>3</th>\n",
       "      <td>14776</td>\n",
       "      <td>0</td>\n",
       "      <td>1</td>\n",
       "      <td>1</td>\n",
       "      <td>1</td>\n",
       "      <td>500</td>\n",
       "      <td>1</td>\n",
       "      <td>0</td>\n",
       "      <td>0</td>\n",
       "      <td>6952</td>\n",
       "      <td>0</td>\n",
       "    </tr>\n",
       "    <tr>\n",
       "      <th>4</th>\n",
       "      <td>97752</td>\n",
       "      <td>0</td>\n",
       "      <td>4</td>\n",
       "      <td>1</td>\n",
       "      <td>1</td>\n",
       "      <td>43300</td>\n",
       "      <td>26</td>\n",
       "      <td>2077</td>\n",
       "      <td>4</td>\n",
       "      <td>6935</td>\n",
       "      <td>1</td>\n",
       "    </tr>\n",
       "    <tr>\n",
       "      <th>...</th>\n",
       "      <td>...</td>\n",
       "      <td>...</td>\n",
       "      <td>...</td>\n",
       "      <td>...</td>\n",
       "      <td>...</td>\n",
       "      <td>...</td>\n",
       "      <td>...</td>\n",
       "      <td>...</td>\n",
       "      <td>...</td>\n",
       "      <td>...</td>\n",
       "      <td>...</td>\n",
       "    </tr>\n",
       "    <tr>\n",
       "      <th>3993</th>\n",
       "      <td>18476</td>\n",
       "      <td>0</td>\n",
       "      <td>1</td>\n",
       "      <td>1</td>\n",
       "      <td>1</td>\n",
       "      <td>8525</td>\n",
       "      <td>4</td>\n",
       "      <td>200</td>\n",
       "      <td>1</td>\n",
       "      <td>1403</td>\n",
       "      <td>1</td>\n",
       "    </tr>\n",
       "    <tr>\n",
       "      <th>3994</th>\n",
       "      <td>64385</td>\n",
       "      <td>0</td>\n",
       "      <td>1</td>\n",
       "      <td>1</td>\n",
       "      <td>1</td>\n",
       "      <td>981</td>\n",
       "      <td>5</td>\n",
       "      <td>0</td>\n",
       "      <td>0</td>\n",
       "      <td>1395</td>\n",
       "      <td>1</td>\n",
       "    </tr>\n",
       "    <tr>\n",
       "      <th>3995</th>\n",
       "      <td>73597</td>\n",
       "      <td>0</td>\n",
       "      <td>3</td>\n",
       "      <td>1</td>\n",
       "      <td>1</td>\n",
       "      <td>25447</td>\n",
       "      <td>8</td>\n",
       "      <td>0</td>\n",
       "      <td>0</td>\n",
       "      <td>1402</td>\n",
       "      <td>1</td>\n",
       "    </tr>\n",
       "    <tr>\n",
       "      <th>3996</th>\n",
       "      <td>54899</td>\n",
       "      <td>0</td>\n",
       "      <td>1</td>\n",
       "      <td>1</td>\n",
       "      <td>1</td>\n",
       "      <td>500</td>\n",
       "      <td>1</td>\n",
       "      <td>500</td>\n",
       "      <td>1</td>\n",
       "      <td>1401</td>\n",
       "      <td>0</td>\n",
       "    </tr>\n",
       "    <tr>\n",
       "      <th>3997</th>\n",
       "      <td>3016</td>\n",
       "      <td>0</td>\n",
       "      <td>1</td>\n",
       "      <td>1</td>\n",
       "      <td>1</td>\n",
       "      <td>0</td>\n",
       "      <td>0</td>\n",
       "      <td>0</td>\n",
       "      <td>0</td>\n",
       "      <td>1398</td>\n",
       "      <td>0</td>\n",
       "    </tr>\n",
       "  </tbody>\n",
       "</table>\n",
       "<p>3998 rows × 11 columns</p>\n",
       "</div>"
      ],
      "text/plain": [
       "      Trvl_Bal  Qlfy_miles  cc1_miles  cc2_miles  cc3_miles  Bonus_miles  \\\n",
       "0        28143           0          1          1          1          174   \n",
       "1        19244           0          1          1          1          215   \n",
       "2        41354           0          1          1          1         4123   \n",
       "3        14776           0          1          1          1          500   \n",
       "4        97752           0          4          1          1        43300   \n",
       "...        ...         ...        ...        ...        ...          ...   \n",
       "3993     18476           0          1          1          1         8525   \n",
       "3994     64385           0          1          1          1          981   \n",
       "3995     73597           0          3          1          1        25447   \n",
       "3996     54899           0          1          1          1          500   \n",
       "3997      3016           0          1          1          1            0   \n",
       "\n",
       "      Bonus_trans  Flight_miles  Flight_trans  Enroll_period  Award  \n",
       "0               1             0             0           7000      0  \n",
       "1               2             0             0           6968      0  \n",
       "2               4             0             0           7034      0  \n",
       "3               1             0             0           6952      0  \n",
       "4              26          2077             4           6935      1  \n",
       "...           ...           ...           ...            ...    ...  \n",
       "3993            4           200             1           1403      1  \n",
       "3994            5             0             0           1395      1  \n",
       "3995            8             0             0           1402      1  \n",
       "3996            1           500             1           1401      0  \n",
       "3997            0             0             0           1398      0  \n",
       "\n",
       "[3998 rows x 11 columns]"
      ]
     },
     "execution_count": 13,
     "metadata": {},
     "output_type": "execute_result"
    }
   ],
   "source": [
    "psngr_data.reset_index(inplace=True,drop=True)\n",
    "psngr_data"
   ]
  },
  {
   "cell_type": "markdown",
   "id": "07ba3849",
   "metadata": {
    "ExecuteTime": {
     "end_time": "2022-11-16T07:22:22.239920Z",
     "start_time": "2022-11-16T07:22:22.216740Z"
    }
   },
   "source": [
    "#### There are no duplicate values."
   ]
  },
  {
   "cell_type": "markdown",
   "id": "6e3397fb",
   "metadata": {},
   "source": [
    "### Step-2.3 : Exploring data using Visualisation"
   ]
  },
  {
   "cell_type": "markdown",
   "id": "39f85bfd",
   "metadata": {},
   "source": [
    "#### Histogram"
   ]
  },
  {
   "cell_type": "code",
   "execution_count": 14,
   "id": "39a4c695",
   "metadata": {
    "ExecuteTime": {
     "end_time": "2022-12-22T06:17:55.786611Z",
     "start_time": "2022-12-22T06:17:52.969903Z"
    }
   },
   "outputs": [
    {
     "data": {
      "image/png": "[encoded data removed]",
      "text/plain": [
       "<Figure size 1296x864 with 12 Axes>"
      ]
     },
     "metadata": {
      "needs_background": "light"
     },
     "output_type": "display_data"
    }
   ],
   "source": [
    "psngr_data.hist(figsize=(18,12),bins=25)\n",
    "plt.show()"
   ]
  },
  {
   "cell_type": "markdown",
   "id": "e0d1d2ef",
   "metadata": {},
   "source": [
    "#### Boxplot"
   ]
  },
  {
   "cell_type": "code",
   "execution_count": 15,
   "id": "21780b7d",
   "metadata": {
    "ExecuteTime": {
     "end_time": "2022-12-22T06:17:57.026377Z",
     "start_time": "2022-12-22T06:17:55.786611Z"
    }
   },
   "outputs": [
    {
     "data": {
      "image/png": "[encoded data removed]",
      "text/plain": [
       "<Figure size 1152x288 with 1 Axes>"
      ]
     },
     "metadata": {
      "needs_background": "light"
     },
     "output_type": "display_data"
    },
    {
     "data": {
      "image/png": "[encoded data removed]",
      "text/plain": [
       "<Figure size 1152x288 with 1 Axes>"
      ]
     },
     "metadata": {
      "needs_background": "light"
     },
     "output_type": "display_data"
    },
    {
     "data": {
      "image/png": "[encoded data removed]",
      "text/plain": [
       "<Figure size 1152x288 with 1 Axes>"
      ]
     },
     "metadata": {
      "needs_background": "light"
     },
     "output_type": "display_data"
    },
    {
     "data": {
      "image/png": "[encoded data removed]",
      "text/plain": [
       "<Figure size 1152x288 with 1 Axes>"
      ]
     },
     "metadata": {
      "needs_background": "light"
     },
     "output_type": "display_data"
    },
    {
     "data": {
      "image/png": "[encoded data removed]",
      "text/plain": [
       "<Figure size 1152x288 with 1 Axes>"
      ]
     },
     "metadata": {
      "needs_background": "light"
     },
     "output_type": "display_data"
    },
    {
     "data": {
      "image/png": "[encoded data removed]",
      "text/plain": [
       "<Figure size 1152x288 with 1 Axes>"
      ]
     },
     "metadata": {
      "needs_background": "light"
     },
     "output_type": "display_data"
    },
    {
     "data": {
      "image/png": "[encoded data removed]",
      "text/plain": [
       "<Figure size 1152x288 with 1 Axes>"
      ]
     },
     "metadata": {
      "needs_background": "light"
     },
     "output_type": "display_data"
    },
    {
     "data": {
      "image/png": "[encoded data removed]",
      "text/plain": [
       "<Figure size 1152x288 with 1 Axes>"
      ]
     },
     "metadata": {
      "needs_background": "light"
     },
     "output_type": "display_data"
    },
    {
     "data": {
      "image/png": "[encoded data removed]",
      "text/plain": [
       "<Figure size 1152x288 with 1 Axes>"
      ]
     },
     "metadata": {
      "needs_background": "light"
     },
     "output_type": "display_data"
    },
    {
     "data": {
      "image/png": "[encoded data removed]",
      "text/plain": [
       "<Figure size 1152x288 with 1 Axes>"
      ]
     },
     "metadata": {
      "needs_background": "light"
     },
     "output_type": "display_data"
    },
    {
     "data": {
      "image/png": "[encoded data removed]",
      "text/plain": [
       "<Figure size 1152x288 with 1 Axes>"
      ]
     },
     "metadata": {
      "needs_background": "light"
     },
     "output_type": "display_data"
    }
   ],
   "source": [
    "for feature in psngr_data.columns:\n",
    "    plt.figure(figsize=(16,4))\n",
    "    sb.boxplot(psngr_data[feature])"
   ]
  },
  {
   "cell_type": "markdown",
   "id": "842261ef",
   "metadata": {},
   "source": [
    "#### Comparing features using Boxplots"
   ]
  },
  {
   "cell_type": "code",
   "execution_count": 16,
   "id": "f482b7e9",
   "metadata": {
    "ExecuteTime": {
     "end_time": "2022-12-22T06:17:57.528271Z",
     "start_time": "2022-12-22T06:17:57.026377Z"
    }
   },
   "outputs": [
    {
     "data": {
      "text/plain": [
       "<AxesSubplot:>"
      ]
     },
     "execution_count": 16,
     "metadata": {},
     "output_type": "execute_result"
    },
    {
     "data": {
      "image/png": "[encoded data removed]",
      "text/plain": [
       "<Figure size 864x576 with 1 Axes>"
      ]
     },
     "metadata": {
      "needs_background": "light"
     },
     "output_type": "display_data"
    }
   ],
   "source": [
    "plt.figure(figsize=(12,8))\n",
    "sb.boxplot(data=psngr_data)"
   ]
  },
  {
   "cell_type": "code",
   "execution_count": 17,
   "id": "41da911f",
   "metadata": {
    "ExecuteTime": {
     "end_time": "2022-12-22T06:17:57.684881Z",
     "start_time": "2022-12-22T06:17:57.528271Z"
    }
   },
   "outputs": [
    {
     "data": {
      "image/png": "[encoded data removed]",
      "text/plain": [
       "<Figure size 432x288 with 1 Axes>"
      ]
     },
     "metadata": {
      "needs_background": "light"
     },
     "output_type": "display_data"
    }
   ],
   "source": [
    "sb.countplot(x='Award', data=psngr_data, \n",
    "              order=psngr_data['Award'].value_counts().index)\n",
    "plt.xticks(fontsize = 12)\n",
    "plt.title(\"No. of passengers doesn't have a Award\")\n",
    "plt.show()"
   ]
  },
  {
   "cell_type": "code",
   "execution_count": 18,
   "id": "c949cda5",
   "metadata": {
    "ExecuteTime": {
     "end_time": "2022-12-22T06:17:57.700900Z",
     "start_time": "2022-12-22T06:17:57.684881Z"
    }
   },
   "outputs": [
    {
     "data": {
      "text/plain": [
       "0    62.96\n",
       "1    37.04\n",
       "Name: Award, dtype: float64"
      ]
     },
     "execution_count": 18,
     "metadata": {},
     "output_type": "execute_result"
    }
   ],
   "source": [
    "np.round(psngr_data['Award'].value_counts()/psngr_data.shape[0]*100,2)"
   ]
  },
  {
   "cell_type": "markdown",
   "id": "a95ecaf5",
   "metadata": {
    "ExecuteTime": {
     "end_time": "2022-11-16T13:38:44.519626Z",
     "start_time": "2022-11-16T13:38:44.519626Z"
    }
   },
   "source": [
    "#### We can see that 63% of passengers doesn't have Award"
   ]
  },
  {
   "cell_type": "markdown",
   "id": "7783845b",
   "metadata": {},
   "source": [
    "#### Correlation and Heat map"
   ]
  },
  {
   "cell_type": "code",
   "execution_count": 19,
   "id": "e42dfd84",
   "metadata": {
    "ExecuteTime": {
     "end_time": "2022-12-22T06:17:57.747769Z",
     "start_time": "2022-12-22T06:17:57.700900Z"
    }
   },
   "outputs": [
    {
     "data": {
      "text/html": [
       "<div>\n",
       "<style scoped>\n",
       "    .dataframe tbody tr th:only-of-type {\n",
       "        vertical-align: middle;\n",
       "    }\n",
       "\n",
       "    .dataframe tbody tr th {\n",
       "        vertical-align: top;\n",
       "    }\n",
       "\n",
       "    .dataframe thead th {\n",
       "        text-align: right;\n",
       "    }\n",
       "</style>\n",
       "<table border=\"1\" class=\"dataframe\">\n",
       "  <thead>\n",
       "    <tr style=\"text-align: right;\">\n",
       "      <th></th>\n",
       "      <th>Trvl_Bal</th>\n",
       "      <th>Qlfy_miles</th>\n",
       "      <th>cc1_miles</th>\n",
       "      <th>cc2_miles</th>\n",
       "      <th>cc3_miles</th>\n",
       "      <th>Bonus_miles</th>\n",
       "      <th>Bonus_trans</th>\n",
       "      <th>Flight_miles</th>\n",
       "      <th>Flight_trans</th>\n",
       "      <th>Enroll_period</th>\n",
       "      <th>Award</th>\n",
       "    </tr>\n",
       "  </thead>\n",
       "  <tbody>\n",
       "    <tr>\n",
       "      <th>Trvl_Bal</th>\n",
       "      <td>1.000000</td>\n",
       "      <td>0.108696</td>\n",
       "      <td>0.338252</td>\n",
       "      <td>-0.008822</td>\n",
       "      <td>0.035234</td>\n",
       "      <td>0.403410</td>\n",
       "      <td>0.324797</td>\n",
       "      <td>0.217509</td>\n",
       "      <td>0.255656</td>\n",
       "      <td>0.262975</td>\n",
       "      <td>0.178380</td>\n",
       "    </tr>\n",
       "    <tr>\n",
       "      <th>Qlfy_miles</th>\n",
       "      <td>0.108696</td>\n",
       "      <td>1.000000</td>\n",
       "      <td>0.007896</td>\n",
       "      <td>-0.013928</td>\n",
       "      <td>-0.007782</td>\n",
       "      <td>0.030990</td>\n",
       "      <td>0.050678</td>\n",
       "      <td>0.126761</td>\n",
       "      <td>0.143990</td>\n",
       "      <td>0.017259</td>\n",
       "      <td>0.095228</td>\n",
       "    </tr>\n",
       "    <tr>\n",
       "      <th>cc1_miles</th>\n",
       "      <td>0.338252</td>\n",
       "      <td>0.007896</td>\n",
       "      <td>1.000000</td>\n",
       "      <td>-0.068247</td>\n",
       "      <td>0.060548</td>\n",
       "      <td>0.825177</td>\n",
       "      <td>0.608867</td>\n",
       "      <td>0.037310</td>\n",
       "      <td>0.041267</td>\n",
       "      <td>0.230674</td>\n",
       "      <td>0.335358</td>\n",
       "    </tr>\n",
       "    <tr>\n",
       "      <th>cc2_miles</th>\n",
       "      <td>-0.008822</td>\n",
       "      <td>-0.013928</td>\n",
       "      <td>-0.068247</td>\n",
       "      <td>1.000000</td>\n",
       "      <td>-0.006168</td>\n",
       "      <td>-0.003987</td>\n",
       "      <td>0.064381</td>\n",
       "      <td>0.010590</td>\n",
       "      <td>0.028276</td>\n",
       "      <td>-0.005838</td>\n",
       "      <td>0.005314</td>\n",
       "    </tr>\n",
       "    <tr>\n",
       "      <th>cc3_miles</th>\n",
       "      <td>0.035234</td>\n",
       "      <td>-0.007782</td>\n",
       "      <td>0.060548</td>\n",
       "      <td>-0.006168</td>\n",
       "      <td>1.000000</td>\n",
       "      <td>0.204136</td>\n",
       "      <td>0.097312</td>\n",
       "      <td>-0.001783</td>\n",
       "      <td>-0.001122</td>\n",
       "      <td>0.010815</td>\n",
       "      <td>0.023474</td>\n",
       "    </tr>\n",
       "    <tr>\n",
       "      <th>Bonus_miles</th>\n",
       "      <td>0.403410</td>\n",
       "      <td>0.030990</td>\n",
       "      <td>0.825177</td>\n",
       "      <td>-0.003987</td>\n",
       "      <td>0.204136</td>\n",
       "      <td>1.000000</td>\n",
       "      <td>0.603114</td>\n",
       "      <td>0.183492</td>\n",
       "      <td>0.185211</td>\n",
       "      <td>0.210232</td>\n",
       "      <td>0.373421</td>\n",
       "    </tr>\n",
       "    <tr>\n",
       "      <th>Bonus_trans</th>\n",
       "      <td>0.324797</td>\n",
       "      <td>0.050678</td>\n",
       "      <td>0.608867</td>\n",
       "      <td>0.064381</td>\n",
       "      <td>0.097312</td>\n",
       "      <td>0.603114</td>\n",
       "      <td>1.000000</td>\n",
       "      <td>0.377190</td>\n",
       "      <td>0.432341</td>\n",
       "      <td>0.160953</td>\n",
       "      <td>0.333747</td>\n",
       "    </tr>\n",
       "    <tr>\n",
       "      <th>Flight_miles</th>\n",
       "      <td>0.217509</td>\n",
       "      <td>0.126761</td>\n",
       "      <td>0.037310</td>\n",
       "      <td>0.010590</td>\n",
       "      <td>-0.001783</td>\n",
       "      <td>0.183492</td>\n",
       "      <td>0.377190</td>\n",
       "      <td>1.000000</td>\n",
       "      <td>0.869189</td>\n",
       "      <td>0.037178</td>\n",
       "      <td>0.217671</td>\n",
       "    </tr>\n",
       "    <tr>\n",
       "      <th>Flight_trans</th>\n",
       "      <td>0.255656</td>\n",
       "      <td>0.143990</td>\n",
       "      <td>0.041267</td>\n",
       "      <td>0.028276</td>\n",
       "      <td>-0.001122</td>\n",
       "      <td>0.185211</td>\n",
       "      <td>0.432341</td>\n",
       "      <td>0.869189</td>\n",
       "      <td>1.000000</td>\n",
       "      <td>0.059161</td>\n",
       "      <td>0.247862</td>\n",
       "    </tr>\n",
       "    <tr>\n",
       "      <th>Enroll_period</th>\n",
       "      <td>0.262975</td>\n",
       "      <td>0.017259</td>\n",
       "      <td>0.230674</td>\n",
       "      <td>-0.005838</td>\n",
       "      <td>0.010815</td>\n",
       "      <td>0.210232</td>\n",
       "      <td>0.160953</td>\n",
       "      <td>0.037178</td>\n",
       "      <td>0.059161</td>\n",
       "      <td>1.000000</td>\n",
       "      <td>0.187936</td>\n",
       "    </tr>\n",
       "    <tr>\n",
       "      <th>Award</th>\n",
       "      <td>0.178380</td>\n",
       "      <td>0.095228</td>\n",
       "      <td>0.335358</td>\n",
       "      <td>0.005314</td>\n",
       "      <td>0.023474</td>\n",
       "      <td>0.373421</td>\n",
       "      <td>0.333747</td>\n",
       "      <td>0.217671</td>\n",
       "      <td>0.247862</td>\n",
       "      <td>0.187936</td>\n",
       "      <td>1.000000</td>\n",
       "    </tr>\n",
       "  </tbody>\n",
       "</table>\n",
       "</div>"
      ],
      "text/plain": [
       "               Trvl_Bal  Qlfy_miles  cc1_miles  cc2_miles  cc3_miles  \\\n",
       "Trvl_Bal       1.000000    0.108696   0.338252  -0.008822   0.035234   \n",
       "Qlfy_miles     0.108696    1.000000   0.007896  -0.013928  -0.007782   \n",
       "cc1_miles      0.338252    0.007896   1.000000  -0.068247   0.060548   \n",
       "cc2_miles     -0.008822   -0.013928  -0.068247   1.000000  -0.006168   \n",
       "cc3_miles      0.035234   -0.007782   0.060548  -0.006168   1.000000   \n",
       "Bonus_miles    0.403410    0.030990   0.825177  -0.003987   0.204136   \n",
       "Bonus_trans    0.324797    0.050678   0.608867   0.064381   0.097312   \n",
       "Flight_miles   0.217509    0.126761   0.037310   0.010590  -0.001783   \n",
       "Flight_trans   0.255656    0.143990   0.041267   0.028276  -0.001122   \n",
       "Enroll_period  0.262975    0.017259   0.230674  -0.005838   0.010815   \n",
       "Award          0.178380    0.095228   0.335358   0.005314   0.023474   \n",
       "\n",
       "               Bonus_miles  Bonus_trans  Flight_miles  Flight_trans  \\\n",
       "Trvl_Bal          0.403410     0.324797      0.217509      0.255656   \n",
       "Qlfy_miles        0.030990     0.050678      0.126761      0.143990   \n",
       "cc1_miles         0.825177     0.608867      0.037310      0.041267   \n",
       "cc2_miles        -0.003987     0.064381      0.010590      0.028276   \n",
       "cc3_miles         0.204136     0.097312     -0.001783     -0.001122   \n",
       "Bonus_miles       1.000000     0.603114      0.183492      0.185211   \n",
       "Bonus_trans       0.603114     1.000000      0.377190      0.432341   \n",
       "Flight_miles      0.183492     0.377190      1.000000      0.869189   \n",
       "Flight_trans      0.185211     0.432341      0.869189      1.000000   \n",
       "Enroll_period     0.210232     0.160953      0.037178      0.059161   \n",
       "Award             0.373421     0.333747      0.217671      0.247862   \n",
       "\n",
       "               Enroll_period     Award  \n",
       "Trvl_Bal            0.262975  0.178380  \n",
       "Qlfy_miles          0.017259  0.095228  \n",
       "cc1_miles           0.230674  0.335358  \n",
       "cc2_miles          -0.005838  0.005314  \n",
       "cc3_miles           0.010815  0.023474  \n",
       "Bonus_miles         0.210232  0.373421  \n",
       "Bonus_trans         0.160953  0.333747  \n",
       "Flight_miles        0.037178  0.217671  \n",
       "Flight_trans        0.059161  0.247862  \n",
       "Enroll_period       1.000000  0.187936  \n",
       "Award               0.187936  1.000000  "
      ]
     },
     "execution_count": 19,
     "metadata": {},
     "output_type": "execute_result"
    }
   ],
   "source": [
    "# Checking for Correlation between variables\n",
    "psngr_data.corr()"
   ]
  },
  {
   "cell_type": "code",
   "execution_count": 20,
   "id": "d5eb6640",
   "metadata": {
    "ExecuteTime": {
     "end_time": "2022-12-22T06:17:58.658082Z",
     "start_time": "2022-12-22T06:17:57.747769Z"
    }
   },
   "outputs": [
    {
     "data": {
      "image/png": "[encoded data removed]",
      "text/plain": [
       "<Figure size 864x720 with 2 Axes>"
      ]
     },
     "metadata": {
      "needs_background": "light"
     },
     "output_type": "display_data"
    }
   ],
   "source": [
    "plt.figure(figsize=(12,10))\n",
    "sb.heatmap(psngr_data.corr(),annot=True)\n",
    "plt.show()"
   ]
  },
  {
   "cell_type": "markdown",
   "id": "09437db7",
   "metadata": {},
   "source": [
    "#### Observation\n",
    "+ We can see that Flight_miles and Flight_trans have strong correlation.\n",
    "+ cc1_miles is strongly related to Bonus_miles.\n",
    "+ cc1_miles is strongly related to Bonus_trans.\n",
    "+ Bonus_miles and Bonus_trans are strongly correlated."
   ]
  },
  {
   "cell_type": "code",
   "execution_count": 21,
   "id": "f22b07a6",
   "metadata": {
    "ExecuteTime": {
     "end_time": "2022-12-22T06:18:06.142818Z",
     "start_time": "2022-12-22T06:17:58.658082Z"
    }
   },
   "outputs": [
    {
     "data": {
      "text/plain": [
       "<seaborn.axisgrid.PairGrid at 0x2ca5584f820>"
      ]
     },
     "execution_count": 21,
     "metadata": {},
     "output_type": "execute_result"
    },
    {
     "data": {
      "image/png": "[encoded data removed]",
      "text/plain": [
       "<Figure size 900x900 with 30 Axes>"
      ]
     },
     "metadata": {
      "needs_background": "light"
     },
     "output_type": "display_data"
    }
   ],
   "source": [
    "sb.pairplot(data=psngr_data[[\"Flight_miles\",\"Flight_trans\",\"cc1_miles\",\"Bonus_miles\",\"Bonus_trans\"]])"
   ]
  },
  {
   "cell_type": "markdown",
   "id": "4b588e82",
   "metadata": {},
   "source": [
    "### Step-3 : Pre-Processing the Data"
   ]
  },
  {
   "cell_type": "markdown",
   "id": "8332ed94",
   "metadata": {},
   "source": [
    "### Step-3.1 : Standardising the data"
   ]
  },
  {
   "cell_type": "code",
   "execution_count": 32,
   "id": "b9f7519a",
   "metadata": {
    "ExecuteTime": {
     "end_time": "2022-12-22T06:24:07.976795Z",
     "start_time": "2022-12-22T06:24:07.945553Z"
    }
   },
   "outputs": [
    {
     "data": {
      "text/plain": [
       "array([[-4.51293870e-01, -1.86322793e-01, -7.69731660e-01, ...,\n",
       "        -3.62219103e-01,  1.39523468e+00, -7.67071631e-01],\n",
       "       [-5.39604653e-01, -1.86322793e-01, -7.69731660e-01, ...,\n",
       "        -3.62219103e-01,  1.37973643e+00, -7.67071631e-01],\n",
       "       [-3.20192202e-01, -1.86322793e-01, -7.69731660e-01, ...,\n",
       "        -3.62219103e-01,  1.41170157e+00, -7.67071631e-01],\n",
       "       ...,\n",
       "       [-2.23153612e-04, -1.86322793e-01,  6.82893866e-01, ...,\n",
       "        -3.62219103e-01, -1.31599028e+00,  1.30365921e+00],\n",
       "       [-1.85776026e-01, -1.86322793e-01, -7.69731660e-01, ...,\n",
       "        -9.85832074e-02, -1.31647460e+00, -7.67071631e-01],\n",
       "       [-7.00646048e-01, -1.86322793e-01, -7.69731660e-01, ...,\n",
       "        -3.62219103e-01, -1.31792757e+00, -7.67071631e-01]])"
      ]
     },
     "execution_count": 32,
     "metadata": {},
     "output_type": "execute_result"
    }
   ],
   "source": [
    "standard_scaler = StandardScaler()\n",
    "psngr_data_std = standard_scaler.fit_transform(psngr_data)\n",
    "psngr_data_std"
   ]
  },
  {
   "cell_type": "markdown",
   "id": "4d447594",
   "metadata": {},
   "source": [
    "### Step-3.2 : Normalising the data"
   ]
  },
  {
   "cell_type": "code",
   "execution_count": 31,
   "id": "0c00597c",
   "metadata": {
    "ExecuteTime": {
     "end_time": "2022-12-22T06:23:59.195439Z",
     "start_time": "2022-12-22T06:23:59.165807Z"
    }
   },
   "outputs": [
    {
     "data": {
      "text/plain": [
       "array([[0.01650773, 0.        , 0.        , ..., 0.        , 0.84374246,\n",
       "        0.        ],\n",
       "       [0.01128788, 0.        , 0.        , ..., 0.        , 0.83988425,\n",
       "        0.        ],\n",
       "       [0.02425685, 0.        , 0.        , ..., 0.        , 0.84784181,\n",
       "        0.        ],\n",
       "       ...,\n",
       "       [0.0431695 , 0.        , 0.5       , ..., 0.        , 0.16879672,\n",
       "        1.        ],\n",
       "       [0.03220189, 0.        , 0.        , ..., 0.01886792, 0.16867615,\n",
       "        0.        ],\n",
       "       [0.00176908, 0.        , 0.        , ..., 0.        , 0.16831444,\n",
       "        0.        ]])"
      ]
     },
     "execution_count": 31,
     "metadata": {},
     "output_type": "execute_result"
    }
   ],
   "source": [
    "min_max = MinMaxScaler()\n",
    "psngr_data_norm = min_max.fit_transform(psngr_data)\n",
    "psngr_data_norm"
   ]
  },
  {
   "cell_type": "markdown",
   "id": "3ecbfa8e",
   "metadata": {},
   "source": [
    "#### However both give almost same result. So adopt Normalised data."
   ]
  },
  {
   "cell_type": "markdown",
   "id": "6c109e37",
   "metadata": {
    "ExecuteTime": {
     "end_time": "2022-11-10T17:58:02.853987Z",
     "start_time": "2022-11-10T17:58:02.838014Z"
    }
   },
   "source": [
    "### Step-4 : Build Clustering model for Normalised data"
   ]
  },
  {
   "cell_type": "markdown",
   "id": "99d5b351",
   "metadata": {},
   "source": [
    "### Step-4.1 : Using Hierarchical Clustering model"
   ]
  },
  {
   "cell_type": "markdown",
   "id": "afd27eb5",
   "metadata": {},
   "source": [
    "#### As the no. of observations are more, Hierarchical clustering is not suggested. But anyhow let us see how it works."
   ]
  },
  {
   "cell_type": "markdown",
   "id": "5cf1ed85",
   "metadata": {
    "ExecuteTime": {
     "end_time": "2022-11-14T17:16:20.382158Z",
     "start_time": "2022-11-14T17:16:20.374177Z"
    }
   },
   "source": [
    "#### Step-4.1.1 : Creating Linkage to determine number of clusters"
   ]
  },
  {
   "cell_type": "code",
   "execution_count": 24,
   "id": "7aa4d033",
   "metadata": {
    "ExecuteTime": {
     "end_time": "2022-12-22T06:18:43.943015Z",
     "start_time": "2022-12-22T06:18:06.189658Z"
    },
    "scrolled": true
   },
   "outputs": [
    {
     "name": "stderr",
     "output_type": "stream",
     "text": [
      "\n",
      "KeyboardInterrupt\n",
      "\n"
     ]
    }
   ],
   "source": [
    "z = linkage(psngr_data_norm, method=\"average\",metric=\"euclidean\")\n",
    "plt.figure(figsize=(250, 10))\n",
    "plt.title('Hierarchical Clustering Dendrogram')\n",
    "plt.xlabel('Index')\n",
    "plt.ylabel('Distance')\n",
    "sch.dendrogram(z)\n",
    "plt.show()     "
   ]
  },
  {
   "cell_type": "markdown",
   "id": "a5a576de",
   "metadata": {},
   "source": [
    "#### Here we can see that there are 4 no . of clusters. But it is very difficult to identify."
   ]
  },
  {
   "cell_type": "markdown",
   "id": "06536831",
   "metadata": {},
   "source": [
    "#### Step-4.1.2 : Buliding the Clustering model"
   ]
  },
  {
   "cell_type": "markdown",
   "id": "d0de614b",
   "metadata": {},
   "source": [
    "#### Before selecting no. of clusters, check Silhouette score by varying number of clusters in the model build. Silhouette score gives the accuracy of a model."
   ]
  },
  {
   "cell_type": "code",
   "execution_count": null,
   "id": "1230910a",
   "metadata": {
    "ExecuteTime": {
     "end_time": "2022-12-22T06:18:43.943015Z",
     "start_time": "2022-12-22T06:18:43.943015Z"
    }
   },
   "outputs": [],
   "source": [
    "for nc in range(2,11):\n",
    "    h_cluster = AgglomerativeClustering(n_clusters=nc, linkage='average',affinity = \"euclidean\").fit(psngr_data_norm)\n",
    "    cluster_labels=pd.Series(h_cluster.labels_)\n",
    "    slht_scr= sklearn.metrics.silhouette_score(psngr_data_norm, cluster_labels)\n",
    "    print(\"For n_clusters =\", nc,\"The average silhouette_score is :\", slht_scr)"
   ]
  },
  {
   "cell_type": "markdown",
   "id": "960b56ad",
   "metadata": {},
   "source": [
    "#### Model with 4 no. of clusters has the highest accuracy. Hence build the model with 4 no. of clusters."
   ]
  },
  {
   "cell_type": "code",
   "execution_count": null,
   "id": "f5d0d191",
   "metadata": {
    "ExecuteTime": {
     "end_time": "2022-12-22T06:18:43.943015Z",
     "start_time": "2022-12-22T06:18:43.943015Z"
    }
   },
   "outputs": [],
   "source": [
    "h_cluster = AgglomerativeClustering(n_clusters=4, linkage='average',affinity = \"euclidean\").fit(psngr_data_norm) \n",
    "cluster_labels=pd.Series(h_cluster.labels_)\n",
    "cluster_labels\n",
    "psngr_data['clust']=cluster_labels\n",
    "psngr_data  "
   ]
  },
  {
   "cell_type": "code",
   "execution_count": null,
   "id": "345f9e11",
   "metadata": {
    "ExecuteTime": {
     "end_time": "2022-12-22T06:18:43.943015Z",
     "start_time": "2022-12-22T06:18:43.943015Z"
    }
   },
   "outputs": [],
   "source": [
    "cluster_labels"
   ]
  },
  {
   "cell_type": "markdown",
   "id": "37a9e12f",
   "metadata": {},
   "source": [
    "#### Step-4.1.3 : Analysing the results obtained from the model"
   ]
  },
  {
   "cell_type": "code",
   "execution_count": null,
   "id": "2c0eb936",
   "metadata": {
    "ExecuteTime": {
     "end_time": "2022-12-22T06:18:43.958598Z",
     "start_time": "2022-12-22T06:18:43.958598Z"
    }
   },
   "outputs": [],
   "source": [
    "psngr_data.groupby(psngr_data.clust).mean()   "
   ]
  },
  {
   "cell_type": "markdown",
   "id": "fbb9dd39",
   "metadata": {
    "ExecuteTime": {
     "end_time": "2022-11-15T07:17:53.520046Z",
     "start_time": "2022-11-15T07:17:53.504002Z"
    }
   },
   "source": [
    "#### We can see that 4 no. of clusters are formed."
   ]
  },
  {
   "cell_type": "markdown",
   "id": "e85613ad",
   "metadata": {},
   "source": [
    "#### Following are the Different Passengers in each cluster"
   ]
  },
  {
   "cell_type": "code",
   "execution_count": null,
   "id": "d1d13477",
   "metadata": {
    "ExecuteTime": {
     "end_time": "2022-12-22T06:18:43.958598Z",
     "start_time": "2022-12-22T06:18:43.958598Z"
    },
    "scrolled": true
   },
   "outputs": [],
   "source": [
    "h_cluster_0 = psngr_data[(psngr_data.clust==0)]\n",
    "h_cluster_0   "
   ]
  },
  {
   "cell_type": "code",
   "execution_count": null,
   "id": "393608e8",
   "metadata": {
    "ExecuteTime": {
     "end_time": "2022-12-22T06:18:43.958598Z",
     "start_time": "2022-12-22T06:18:43.958598Z"
    }
   },
   "outputs": [],
   "source": [
    "h_cluster_1 = psngr_data[(psngr_data.clust==1)]\n",
    "h_cluster_1   "
   ]
  },
  {
   "cell_type": "code",
   "execution_count": null,
   "id": "874d1d6c",
   "metadata": {
    "ExecuteTime": {
     "end_time": "2022-12-22T06:18:43.958598Z",
     "start_time": "2022-12-22T06:18:43.958598Z"
    }
   },
   "outputs": [],
   "source": [
    "h_cluster_2 = psngr_data[(psngr_data.clust==2)]\n",
    "h_cluster_2   "
   ]
  },
  {
   "cell_type": "code",
   "execution_count": null,
   "id": "3f96f811",
   "metadata": {
    "ExecuteTime": {
     "end_time": "2022-12-22T06:18:43.958598Z",
     "start_time": "2022-12-22T06:18:43.958598Z"
    }
   },
   "outputs": [],
   "source": [
    "h_cluster_3 = psngr_data[(psngr_data.clust==3)]\n",
    "h_cluster_3   "
   ]
  },
  {
   "cell_type": "code",
   "execution_count": null,
   "id": "e39a3220",
   "metadata": {
    "ExecuteTime": {
     "end_time": "2022-12-22T06:18:43.958598Z",
     "start_time": "2022-12-22T06:18:43.958598Z"
    }
   },
   "outputs": [],
   "source": [
    "plt.style.use(['classic']) \n",
    "plt.figure(figsize=(12,6))\n",
    "psngr_data.plot(x=\"Flight_miles\",y =\"Flight_trans\",c=cluster_labels,label = 'Cluster Number',kind=\"scatter\",s=100 ,cmap=plt.cm.coolwarm) \n",
    "plt.title('Clusters using Hierarchical Clustering') \n",
    "plt.show()"
   ]
  },
  {
   "cell_type": "markdown",
   "id": "5fc1797e",
   "metadata": {
    "ExecuteTime": {
     "end_time": "2022-11-15T08:18:07.350536Z",
     "start_time": "2022-11-15T08:18:07.319286Z"
    }
   },
   "source": [
    "#### We can see that some of the observations of one cluster are overlapping with the other cluster. So let us check the accuracy of the model in classifying data by evaluating Silhouette score."
   ]
  },
  {
   "cell_type": "markdown",
   "id": "a501c436",
   "metadata": {},
   "source": [
    "#### Evaluating accuracy of the model using Silhouette score"
   ]
  },
  {
   "cell_type": "code",
   "execution_count": null,
   "id": "1a8727e9",
   "metadata": {
    "ExecuteTime": {
     "end_time": "2022-12-22T06:18:43.958598Z",
     "start_time": "2022-12-22T06:18:43.958598Z"
    }
   },
   "outputs": [],
   "source": [
    "# Silhouette score ranges from -1 to 1. '-1' indicates model is not good. '1' indicates model is best. \n",
    "# '0' indicates clusters are overlapping\n",
    "slht_scr_hc = sklearn.metrics.silhouette_score(psngr_data_norm, cluster_labels)\n",
    "slht_scr_hc"
   ]
  },
  {
   "cell_type": "markdown",
   "id": "0a6fa8bf",
   "metadata": {
    "ExecuteTime": {
     "end_time": "2022-11-15T08:55:02.795486Z",
     "start_time": "2022-11-15T08:55:02.779862Z"
    }
   },
   "source": [
    "#### The score is closer to '0'. It indicates that the model is not that accurate at classifying the data, as clusters are overlapping. So try other methods of clustering."
   ]
  },
  {
   "cell_type": "markdown",
   "id": "76221f98",
   "metadata": {},
   "source": [
    "### Step-4.2 : Using K-means Clustering model"
   ]
  },
  {
   "cell_type": "markdown",
   "id": "3f774dd0",
   "metadata": {
    "ExecuteTime": {
     "end_time": "2022-11-15T09:13:19.487590Z",
     "start_time": "2022-11-15T09:13:19.456432Z"
    }
   },
   "source": [
    "#### Step-4.2.1 : Determing no. of clusters using 'Elbow method'"
   ]
  },
  {
   "cell_type": "code",
   "execution_count": null,
   "id": "5272b136",
   "metadata": {
    "ExecuteTime": {
     "end_time": "2022-12-22T06:18:43.958598Z",
     "start_time": "2022-12-22T06:18:43.958598Z"
    }
   },
   "outputs": [],
   "source": [
    "from sklearn.cluster import KMeans\n",
    "fig = plt.figure(figsize=(10, 8))\n",
    "WCSS = []\n",
    "for i in range(1, 11):\n",
    "    k_cluster = KMeans(n_clusters=i)\n",
    "    k_cluster.fit(psngr_data_norm)\n",
    "    WCSS.append(k_cluster.inertia_)\n",
    "plt.plot(range(1, 11), WCSS)\n",
    "plt.title('The Elbow Method')\n",
    "plt.ylabel('WCSS')\n",
    "plt.xlabel('Number of Clusters')\n",
    "\n",
    "plt.show()  "
   ]
  },
  {
   "cell_type": "markdown",
   "id": "096ab909",
   "metadata": {},
   "source": [
    "#### Therefore from the elbow curve, we can observe that the number of clusters are 6."
   ]
  },
  {
   "cell_type": "markdown",
   "id": "f56be02b",
   "metadata": {},
   "source": [
    "#### Step-4.2.2 : Buliding the Clustering model"
   ]
  },
  {
   "cell_type": "markdown",
   "id": "a7ae51f9",
   "metadata": {
    "ExecuteTime": {
     "end_time": "2022-11-15T16:13:26.519634Z",
     "start_time": "2022-11-15T16:13:26.503575Z"
    }
   },
   "source": [
    "#### Before selecting no. of clusters, check Silhouette score by varying number of clusters in the model build. Silhouette score gives the accuracy of a model."
   ]
  },
  {
   "cell_type": "code",
   "execution_count": null,
   "id": "d8a10fb4",
   "metadata": {
    "ExecuteTime": {
     "end_time": "2022-12-22T06:18:43.974221Z",
     "start_time": "2022-12-22T06:18:43.974221Z"
    }
   },
   "outputs": [],
   "source": [
    "# Silhouette score ranges from -1 to 1. '-1' indicates model is not good. '1' indicates model is best. \n",
    "# '0' indicates clusters are overlapping\n",
    "for nc in range(2,11):\n",
    "    k1_cluster = KMeans(n_clusters=nc, random_state=0)\n",
    "    y1_kmeans = k1_cluster.fit_predict(psngr_data_norm)\n",
    "    slht_scr= sklearn.metrics.silhouette_score(psngr_data_norm, y1_kmeans)\n",
    "    print(\"For n_clusters =\", nc,\"The average silhouette_score is :\", slht_scr)"
   ]
  },
  {
   "cell_type": "markdown",
   "id": "f30b3e9a",
   "metadata": {},
   "source": [
    "#### Model with 2 no. of clusters has the highest accuracy. Hence build the model with 2 no. of clusters."
   ]
  },
  {
   "cell_type": "code",
   "execution_count": null,
   "id": "aac7b461",
   "metadata": {
    "ExecuteTime": {
     "end_time": "2022-12-22T06:18:43.974221Z",
     "start_time": "2022-12-22T06:18:43.974221Z"
    }
   },
   "outputs": [],
   "source": [
    "k_cluster = KMeans(n_clusters=2)\n",
    "y_kmeans = k_cluster.fit_predict(psngr_data_norm)  "
   ]
  },
  {
   "cell_type": "code",
   "execution_count": null,
   "id": "5d3727a7",
   "metadata": {
    "ExecuteTime": {
     "end_time": "2022-12-22T06:18:43.974221Z",
     "start_time": "2022-12-22T06:18:43.974221Z"
    }
   },
   "outputs": [],
   "source": [
    "y_kmeans"
   ]
  },
  {
   "cell_type": "code",
   "execution_count": null,
   "id": "81bd2c6d",
   "metadata": {
    "ExecuteTime": {
     "end_time": "2022-12-22T06:18:43.974221Z",
     "start_time": "2022-12-22T06:18:43.974221Z"
    }
   },
   "outputs": [],
   "source": [
    "k_cluster.labels_"
   ]
  },
  {
   "cell_type": "code",
   "execution_count": null,
   "id": "183d9cae",
   "metadata": {
    "ExecuteTime": {
     "end_time": "2022-12-22T06:18:43.974221Z",
     "start_time": "2022-12-22T06:18:43.974221Z"
    }
   },
   "outputs": [],
   "source": [
    "k_cluster.cluster_centers_"
   ]
  },
  {
   "cell_type": "code",
   "execution_count": null,
   "id": "05e4b3d8",
   "metadata": {
    "ExecuteTime": {
     "end_time": "2022-12-22T06:18:43.989844Z",
     "start_time": "2022-12-22T06:18:43.989844Z"
    }
   },
   "outputs": [],
   "source": [
    "# Within cluster sum of squares or variance\n",
    "k_cluster.inertia_"
   ]
  },
  {
   "cell_type": "code",
   "execution_count": null,
   "id": "4ef8d1c4",
   "metadata": {
    "ExecuteTime": {
     "end_time": "2022-12-22T06:18:43.989844Z",
     "start_time": "2022-12-22T06:18:43.989844Z"
    }
   },
   "outputs": [],
   "source": [
    "ks = pd.Series(y_kmeans) \n",
    "psngr_data['clust']=ks\n",
    "psngr_data"
   ]
  },
  {
   "cell_type": "markdown",
   "id": "047148ed",
   "metadata": {},
   "source": [
    "#### Step-4.2.3 : Analysing the results obtained from the model"
   ]
  },
  {
   "cell_type": "code",
   "execution_count": null,
   "id": "ce8303cc",
   "metadata": {
    "ExecuteTime": {
     "end_time": "2022-12-22T06:18:43.989844Z",
     "start_time": "2022-12-22T06:18:43.989844Z"
    }
   },
   "outputs": [],
   "source": [
    "psngr_data.groupby(psngr_data.clust).mean()   "
   ]
  },
  {
   "cell_type": "markdown",
   "id": "f1a6303f",
   "metadata": {},
   "source": [
    "#### Following are the Different Passengers in each cluster"
   ]
  },
  {
   "cell_type": "code",
   "execution_count": null,
   "id": "dcaad8a5",
   "metadata": {
    "ExecuteTime": {
     "end_time": "2022-12-22T06:18:43.998854Z",
     "start_time": "2022-12-22T06:18:43.998854Z"
    },
    "scrolled": true
   },
   "outputs": [],
   "source": [
    "k_cluster_0 = psngr_data[(psngr_data.clust==0)]\n",
    "k_cluster_0   "
   ]
  },
  {
   "cell_type": "code",
   "execution_count": null,
   "id": "b1ec196b",
   "metadata": {
    "ExecuteTime": {
     "end_time": "2022-12-22T06:18:43.998854Z",
     "start_time": "2022-12-22T06:18:43.998854Z"
    }
   },
   "outputs": [],
   "source": [
    "k_cluster_1 = psngr_data[(psngr_data.clust==1)]\n",
    "k_cluster_1   "
   ]
  },
  {
   "cell_type": "code",
   "execution_count": null,
   "id": "99fd4aca",
   "metadata": {
    "ExecuteTime": {
     "end_time": "2022-12-22T06:18:44.005866Z",
     "start_time": "2022-12-22T06:18:44.005866Z"
    }
   },
   "outputs": [],
   "source": [
    "plt.style.use(['classic']) \n",
    "plt.figure(figsize=(12,6))\n",
    "psngr_data.plot(x=\"Flight_miles\",y =\"Flight_trans\",c=k_cluster.labels_,label = 'Cluster Number',kind=\"scatter\",s=100 ,cmap=plt.cm.coolwarm) \n",
    "plt.title('Clusters using KMeans clustering')\n",
    "plt.show()"
   ]
  },
  {
   "cell_type": "markdown",
   "id": "9a967e27",
   "metadata": {
    "ExecuteTime": {
     "end_time": "2022-11-15T08:18:07.350536Z",
     "start_time": "2022-11-15T08:18:07.319286Z"
    }
   },
   "source": [
    "#### We can see that some of the observations of one cluster are overlapping with the other cluster. So let us check the accuracy of the model in classifying data by evaluating Silhouette score."
   ]
  },
  {
   "cell_type": "markdown",
   "id": "8d9961db",
   "metadata": {},
   "source": [
    "#### Evaluating accuracy of the model using Silhouette score"
   ]
  },
  {
   "cell_type": "code",
   "execution_count": null,
   "id": "b3625cae",
   "metadata": {
    "ExecuteTime": {
     "end_time": "2022-12-22T06:18:44.005866Z",
     "start_time": "2022-12-22T06:18:44.005866Z"
    }
   },
   "outputs": [],
   "source": [
    "# Silhouette score ranges from -1 to 1. '-1' indicates model is not good. '1' indicates model is best. \n",
    "# '0' indicates clusters are overlapping\n",
    "slht_scr_kc = sklearn.metrics.silhouette_score(psngr_data_norm, k_cluster.labels_) \n",
    "slht_scr_kc"
   ]
  },
  {
   "cell_type": "markdown",
   "id": "065eee52",
   "metadata": {
    "ExecuteTime": {
     "end_time": "2022-11-15T08:55:02.795486Z",
     "start_time": "2022-11-15T08:55:02.779862Z"
    }
   },
   "source": [
    "#### The score is closer to '0'. It indicates that the model is not that accurate at classifying the data, as clusters are overlapping. So try other methods of clustering."
   ]
  },
  {
   "cell_type": "markdown",
   "id": "976488e7",
   "metadata": {},
   "source": [
    "### Step-4.3 : DB Scan Clustering model"
   ]
  },
  {
   "cell_type": "markdown",
   "id": "1e6a7676",
   "metadata": {
    "ExecuteTime": {
     "end_time": "2022-11-15T11:45:53.146420Z",
     "start_time": "2022-11-15T11:45:53.130763Z"
    }
   },
   "source": [
    "#### Step-4.3.1 : Determining epsilon value"
   ]
  },
  {
   "cell_type": "code",
   "execution_count": 28,
   "id": "2ccba718",
   "metadata": {
    "ExecuteTime": {
     "end_time": "2022-12-22T06:19:35.111609Z",
     "start_time": "2022-12-22T06:19:35.095990Z"
    }
   },
   "outputs": [
    {
     "data": {
      "text/plain": [
       "array([[0.01650773, 0.        , 0.        , ..., 0.        , 0.84374246,\n",
       "        0.        ],\n",
       "       [0.01128788, 0.        , 0.        , ..., 0.        , 0.83988425,\n",
       "        0.        ],\n",
       "       [0.02425685, 0.        , 0.        , ..., 0.        , 0.84784181,\n",
       "        0.        ],\n",
       "       ...,\n",
       "       [0.0431695 , 0.        , 0.5       , ..., 0.        , 0.16879672,\n",
       "        1.        ],\n",
       "       [0.03220189, 0.        , 0.        , ..., 0.01886792, 0.16867615,\n",
       "        0.        ],\n",
       "       [0.00176908, 0.        , 0.        , ..., 0.        , 0.16831444,\n",
       "        0.        ]])"
      ]
     },
     "execution_count": 28,
     "metadata": {},
     "output_type": "execute_result"
    }
   ],
   "source": [
    "psngr_data_norm"
   ]
  },
  {
   "cell_type": "code",
   "execution_count": 29,
   "id": "a5302f03",
   "metadata": {
    "ExecuteTime": {
     "end_time": "2022-12-22T06:21:52.559616Z",
     "start_time": "2022-12-22T06:21:52.386383Z"
    }
   },
   "outputs": [],
   "source": [
    "# Nearest neighbours = 2x(no. of Dimensions/columns)\n",
    "nn = NearestNeighbors(n_neighbors=22)\n",
    "nn = nn.fit(psngr_data_norm)\n",
    "distances, indices = nn.kneighbors(psngr_data_norm)  "
   ]
  },
  {
   "cell_type": "code",
   "execution_count": 30,
   "id": "b942fb8f",
   "metadata": {
    "ExecuteTime": {
     "end_time": "2022-12-22T06:22:02.556479Z",
     "start_time": "2022-12-22T06:22:02.525228Z"
    }
   },
   "outputs": [
    {
     "data": {
      "text/plain": [
       "array([[0.        , 0.00871531, 0.00982329, ..., 0.02932871, 0.02945634,\n",
       "        0.03071875],\n",
       "       [0.        , 0.01212297, 0.01331785, ..., 0.03473729, 0.03509134,\n",
       "        0.03514045],\n",
       "       [0.        , 0.01857767, 0.01872551, ..., 0.04552297, 0.04668783,\n",
       "        0.04773513],\n",
       "       ...,\n",
       "       [0.        , 0.02591961, 0.04945468, ..., 0.1198017 , 0.11996173,\n",
       "        0.12060709],\n",
       "       [0.        , 0.0264501 , 0.02784951, ..., 0.03925554, 0.03970704,\n",
       "        0.03979314],\n",
       "       [0.        , 0.00038605, 0.0027753 , ..., 0.0198035 , 0.02220023,\n",
       "        0.02328785]])"
      ]
     },
     "execution_count": 30,
     "metadata": {},
     "output_type": "execute_result"
    }
   ],
   "source": [
    "distances"
   ]
  },
  {
   "cell_type": "code",
   "execution_count": null,
   "id": "3491ad59",
   "metadata": {
    "ExecuteTime": {
     "end_time": "2022-12-22T06:18:44.005866Z",
     "start_time": "2022-12-22T06:18:44.005866Z"
    }
   },
   "outputs": [],
   "source": [
    "distances = np.sort(distances, axis=0)\n",
    "distances = distances[:,1]\n",
    "plt.plot(distances)  "
   ]
  },
  {
   "cell_type": "markdown",
   "id": "d48f7ca8",
   "metadata": {
    "ExecuteTime": {
     "end_time": "2022-11-15T16:45:21.519855Z",
     "start_time": "2022-11-15T16:45:21.504228Z"
    }
   },
   "source": [
    "#### The curve takes a sharp bend at a value of 0.2. Hence the epsilon value is 0.2."
   ]
  },
  {
   "cell_type": "markdown",
   "id": "fab243be",
   "metadata": {
    "ExecuteTime": {
     "end_time": "2022-11-15T11:45:53.146420Z",
     "start_time": "2022-11-15T11:45:53.130763Z"
    }
   },
   "source": [
    "#### Step-4.3.2 : Building the DB Scan clustering model"
   ]
  },
  {
   "cell_type": "code",
   "execution_count": null,
   "id": "0a74b632",
   "metadata": {
    "ExecuteTime": {
     "end_time": "2022-12-22T06:18:44.021493Z",
     "start_time": "2022-12-22T06:18:44.021493Z"
    }
   },
   "outputs": [],
   "source": [
    "# min_samples=(no. of Dimensions/columns)+1\n",
    "d_cluster = DBSCAN(eps=0.2, min_samples=12)\n",
    "d_cluster.fit(psngr_data_norm)                      "
   ]
  },
  {
   "cell_type": "code",
   "execution_count": null,
   "id": "b3fbb926",
   "metadata": {
    "ExecuteTime": {
     "end_time": "2022-12-22T06:18:44.021493Z",
     "start_time": "2022-12-22T06:18:44.021493Z"
    }
   },
   "outputs": [],
   "source": [
    "d_cluster.labels_ "
   ]
  },
  {
   "cell_type": "code",
   "execution_count": null,
   "id": "6267be91",
   "metadata": {
    "ExecuteTime": {
     "end_time": "2022-12-22T06:18:44.021493Z",
     "start_time": "2022-12-22T06:18:44.021493Z"
    }
   },
   "outputs": [],
   "source": [
    "ds = pd.Series(d_cluster.labels_) \n",
    "psngr_data['clust']=ds\n",
    "psngr_data"
   ]
  },
  {
   "cell_type": "markdown",
   "id": "5592cc47",
   "metadata": {},
   "source": [
    "#### Step-4.3.3 : Analysing the results obtained from the model"
   ]
  },
  {
   "cell_type": "code",
   "execution_count": null,
   "id": "84f6d505",
   "metadata": {
    "ExecuteTime": {
     "end_time": "2022-12-22T06:18:44.021493Z",
     "start_time": "2022-12-22T06:18:44.021493Z"
    }
   },
   "outputs": [],
   "source": [
    "psngr_data.groupby(psngr_data.clust).mean()"
   ]
  },
  {
   "cell_type": "markdown",
   "id": "b0d9ab96",
   "metadata": {},
   "source": [
    "#### Following are the Different Passengers in each cluster"
   ]
  },
  {
   "cell_type": "code",
   "execution_count": null,
   "id": "1d4b0b5e",
   "metadata": {
    "ExecuteTime": {
     "end_time": "2022-12-22T06:18:44.037116Z",
     "start_time": "2022-12-22T06:18:44.037116Z"
    },
    "scrolled": true
   },
   "outputs": [],
   "source": [
    "array = np.sort(psngr_data[\"clust\"].unique())\n",
    "list = array.tolist()\n",
    "for i in list:\n",
    "    d_cluster_n = psngr_data[(psngr_data.clust==i)]\n",
    "    print(\"\\nThe following are the passengers in Cluster-'\"+str(i)+\"'\\n\\n\",d_cluster_n)"
   ]
  },
  {
   "cell_type": "markdown",
   "id": "d9c1d487",
   "metadata": {
    "ExecuteTime": {
     "end_time": "2022-11-15T12:00:48.813205Z",
     "start_time": "2022-11-15T12:00:48.797541Z"
    }
   },
   "source": [
    "#### Clusters with label '-1' are generally categorised as Outliers."
   ]
  },
  {
   "cell_type": "code",
   "execution_count": null,
   "id": "adf13432",
   "metadata": {
    "ExecuteTime": {
     "end_time": "2022-12-22T06:18:44.037116Z",
     "start_time": "2022-12-22T06:18:44.037116Z"
    }
   },
   "outputs": [],
   "source": [
    "plt.style.use(['classic']) \n",
    "plt.figure(figsize=(12,6))\n",
    "psngr_data.plot(x=\"Flight_miles\",y =\"Flight_trans\",c=d_cluster.labels_,label = 'Cluster Number',kind=\"scatter\",s=100 ,cmap=plt.cm.coolwarm) \n",
    "plt.title('Clusters using DB Scan Clustering')  \n",
    "plt.show()"
   ]
  },
  {
   "cell_type": "markdown",
   "id": "8139d429",
   "metadata": {
    "ExecuteTime": {
     "end_time": "2022-11-15T08:18:07.350536Z",
     "start_time": "2022-11-15T08:18:07.319286Z"
    }
   },
   "source": [
    "#### We can see that some of the observations of one cluster are overlapping with the other cluster. So let us check the accuracy of the model in classifying data by evaluating Silhouette score."
   ]
  },
  {
   "cell_type": "markdown",
   "id": "018e4440",
   "metadata": {},
   "source": [
    "#### Evaluating accuracy of the model using Silhouette score"
   ]
  },
  {
   "cell_type": "code",
   "execution_count": null,
   "id": "45996e88",
   "metadata": {
    "ExecuteTime": {
     "end_time": "2022-12-22T06:18:44.037116Z",
     "start_time": "2022-12-22T06:18:44.037116Z"
    }
   },
   "outputs": [],
   "source": [
    "# Silhouette score ranges from -1 to 1. '-1' indicates model is not good. '1' indicates model is best. \n",
    "# '0' indicates clusters are overlapping\n",
    "slht_scr_dc = sklearn.metrics.silhouette_score(psngr_data_norm, d_cluster.labels_) \n",
    "slht_scr_dc"
   ]
  },
  {
   "cell_type": "markdown",
   "id": "70f900e1",
   "metadata": {
    "ExecuteTime": {
     "end_time": "2022-11-15T08:55:02.795486Z",
     "start_time": "2022-11-15T08:55:02.779862Z"
    }
   },
   "source": [
    "#### Observation\n",
    "+ The Silhouette score is closer to '0'. Hence DB Scan clustering model is not able to classify the dataset accurately. However it detected outliers."
   ]
  },
  {
   "cell_type": "markdown",
   "id": "74ee0e38",
   "metadata": {},
   "source": [
    "### Step-5 : Comparing all the models using Silhouette score"
   ]
  },
  {
   "cell_type": "code",
   "execution_count": null,
   "id": "f6d932a7",
   "metadata": {
    "ExecuteTime": {
     "end_time": "2022-12-22T06:18:44.037116Z",
     "start_time": "2022-12-22T06:18:44.037116Z"
    }
   },
   "outputs": [],
   "source": [
    "print(\"The Silhouette score of Hierarchical Clustering:\",slht_scr_hc)\n",
    "print(\"The Silhouette score of KMeans Clustering:\",slht_scr_kc)\n",
    "print(\"The Silhouette score of DB Scan Clustering:\",slht_scr_dc)"
   ]
  },
  {
   "cell_type": "markdown",
   "id": "57b6e06f",
   "metadata": {
    "ExecuteTime": {
     "end_time": "2022-11-12T08:42:41.889363Z",
     "start_time": "2022-11-12T08:42:41.877457Z"
    }
   },
   "source": [
    "#### Here we can see that the Silhouette score for KMeans clustering is more than other two models."
   ]
  },
  {
   "cell_type": "markdown",
   "id": "51b4dfc9",
   "metadata": {
    "ExecuteTime": {
     "end_time": "2022-11-12T09:03:06.871263Z",
     "start_time": "2022-11-12T09:03:06.867715Z"
    }
   },
   "source": [
    "### Step-6 : Conclusion"
   ]
  },
  {
   "cell_type": "markdown",
   "id": "690934fa",
   "metadata": {
    "ExecuteTime": {
     "end_time": "2022-11-15T17:28:50.952913Z",
     "start_time": "2022-11-15T17:28:50.937291Z"
    }
   },
   "source": [
    "#### Hence the Kmeans clustering model can be selected to classify the dataset."
   ]
  },
  {
   "cell_type": "code",
   "execution_count": null,
   "id": "bed08cea",
   "metadata": {
    "ExecuteTime": {
     "end_time": "2022-12-22T06:18:44.037116Z",
     "start_time": "2022-12-22T06:18:44.037116Z"
    }
   },
   "outputs": [],
   "source": [
    "plt.style.use(['classic']) \n",
    "plt.figure(figsize=(12,6))\n",
    "psngr_data.plot(x=\"Flight_miles\",y =\"Flight_trans\",c=k_cluster.labels_,label = 'Cluster Number',kind=\"scatter\",s=100 ,cmap=plt.cm.coolwarm) \n",
    "plt.title('Clusters using KMeans clustering')\n",
    "plt.show()"
   ]
  },
  {
   "cell_type": "markdown",
   "id": "92b31b4e",
   "metadata": {
    "ExecuteTime": {
     "end_time": "2022-11-16T09:06:08.848912Z",
     "start_time": "2022-11-16T09:06:08.835945Z"
    }
   },
   "source": [
    "### Step-7 : Recommendation"
   ]
  },
  {
   "cell_type": "markdown",
   "id": "15b69f85",
   "metadata": {
    "ExecuteTime": {
     "end_time": "2022-11-15T17:30:21.118533Z",
     "start_time": "2022-11-15T17:30:21.102953Z"
    }
   },
   "source": [
    "#### Maximum award given to cluster '0' in the past. Airlines have to add future schemes for cluster '1'  members on different bonus points & card transaction bonus."
   ]
  }
 ],
 "metadata": {
  "kernelspec": {
   "display_name": "Python 3 (ipykernel)",
   "language": "python",
   "name": "python3"
  },
  "language_info": {
   "codemirror_mode": {
    "name": "ipython",
    "version": 3
   },
   "file_extension": ".py",
   "mimetype": "text/x-python",
   "name": "python",
   "nbconvert_exporter": "python",
   "pygments_lexer": "ipython3",
   "version": "3.9.12"
  }
 },
 "nbformat": 4,
 "nbformat_minor": 5
}
